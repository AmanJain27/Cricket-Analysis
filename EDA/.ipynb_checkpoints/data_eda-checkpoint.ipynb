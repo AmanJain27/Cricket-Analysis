{
 "cells": [
  {
   "cell_type": "code",
   "execution_count": 2,
   "id": "d4f4d435",
   "metadata": {},
   "outputs": [],
   "source": [
    "import pandas as pd\n",
    "import matplotlib.pyplot as plt"
   ]
  },
  {
   "cell_type": "code",
   "execution_count": 9,
   "id": "aecf45b1",
   "metadata": {},
   "outputs": [],
   "source": [
    "df = pd.read_csv(\"../Data Cleaning/scores_reference.csv\", index_col=0)"
   ]
  },
  {
   "cell_type": "code",
   "execution_count": 32,
   "id": "c783ff9f",
   "metadata": {},
   "outputs": [
    {
     "data": {
      "text/plain": [
       "Index(['Player', 'Span', 'Mat', 'Inns', 'NO', 'Runs', 'HS', 'Ave', 'BF', 'SR',\n",
       "       '100', '50', '0', '4s', '6s', 'Country', 'Debut Year', 'Last Year',\n",
       "       'Total Years', 'Innings per Matches', 'Not outs per innings',\n",
       "       'Arithmatic Average of Total Runs by Inns Played',\n",
       "       'Not Out when scored highest', 'HS Numeric', '100's per innings',\n",
       "       '50's per innings', '0's per innings', '4s numeric', '6s numeric',\n",
       "       'boundaries', '4s per Inns', '6s per Inns', 'boundaries per innings',\n",
       "       'runs scored by boundaries', 'boundaries to runs ratio',\n",
       "       'runs without boundaries', 'BF without boundaries',\n",
       "       'Strike Rate without boundaries', 'Avg runs per year'],\n",
       "      dtype='object')"
      ]
     },
     "execution_count": 32,
     "metadata": {},
     "output_type": "execute_result"
    }
   ],
   "source": [
    "\n",
    "df.columns"
   ]
  },
  {
   "cell_type": "code",
   "execution_count": 33,
   "id": "cedfaddd",
   "metadata": {},
   "outputs": [
    {
     "data": {
      "text/html": [
       "<div>\n",
       "<style scoped>\n",
       "    .dataframe tbody tr th:only-of-type {\n",
       "        vertical-align: middle;\n",
       "    }\n",
       "\n",
       "    .dataframe tbody tr th {\n",
       "        vertical-align: top;\n",
       "    }\n",
       "\n",
       "    .dataframe thead th {\n",
       "        text-align: right;\n",
       "    }\n",
       "</style>\n",
       "<table border=\"1\" class=\"dataframe\">\n",
       "  <thead>\n",
       "    <tr style=\"text-align: right;\">\n",
       "      <th></th>\n",
       "      <th>Mat</th>\n",
       "      <th>Inns</th>\n",
       "      <th>NO</th>\n",
       "      <th>Runs</th>\n",
       "      <th>Ave</th>\n",
       "      <th>BF</th>\n",
       "      <th>SR</th>\n",
       "      <th>100</th>\n",
       "      <th>50</th>\n",
       "      <th>0</th>\n",
       "      <th>...</th>\n",
       "      <th>boundaries</th>\n",
       "      <th>4s per Inns</th>\n",
       "      <th>6s per Inns</th>\n",
       "      <th>boundaries per innings</th>\n",
       "      <th>runs scored by boundaries</th>\n",
       "      <th>boundaries to runs ratio</th>\n",
       "      <th>runs without boundaries</th>\n",
       "      <th>BF without boundaries</th>\n",
       "      <th>Strike Rate without boundaries</th>\n",
       "      <th>Avg runs per year</th>\n",
       "    </tr>\n",
       "  </thead>\n",
       "  <tbody>\n",
       "    <tr>\n",
       "      <th>count</th>\n",
       "      <td>91.000000</td>\n",
       "      <td>91.000000</td>\n",
       "      <td>91.000000</td>\n",
       "      <td>91.000000</td>\n",
       "      <td>91.000000</td>\n",
       "      <td>91.000000</td>\n",
       "      <td>91.000000</td>\n",
       "      <td>91.000000</td>\n",
       "      <td>91.000000</td>\n",
       "      <td>91.000000</td>\n",
       "      <td>...</td>\n",
       "      <td>91.000000</td>\n",
       "      <td>91.000000</td>\n",
       "      <td>91.000000</td>\n",
       "      <td>91.000000</td>\n",
       "      <td>91.000000</td>\n",
       "      <td>91.000000</td>\n",
       "      <td>91.000000</td>\n",
       "      <td>91.000000</td>\n",
       "      <td>91.000000</td>\n",
       "      <td>91.000000</td>\n",
       "    </tr>\n",
       "    <tr>\n",
       "      <th>mean</th>\n",
       "      <td>241.780220</td>\n",
       "      <td>227.538462</td>\n",
       "      <td>29.483516</td>\n",
       "      <td>7633.681319</td>\n",
       "      <td>39.165385</td>\n",
       "      <td>9586.505495</td>\n",
       "      <td>80.349231</td>\n",
       "      <td>12.208791</td>\n",
       "      <td>46.153846</td>\n",
       "      <td>12.846154</td>\n",
       "      <td>...</td>\n",
       "      <td>784.604396</td>\n",
       "      <td>3.042127</td>\n",
       "      <td>0.428851</td>\n",
       "      <td>3.470978</td>\n",
       "      <td>3331.868132</td>\n",
       "      <td>0.431950</td>\n",
       "      <td>4301.813187</td>\n",
       "      <td>8801.901099</td>\n",
       "      <td>49.138105</td>\n",
       "      <td>555.157718</td>\n",
       "    </tr>\n",
       "    <tr>\n",
       "      <th>std</th>\n",
       "      <td>73.302691</td>\n",
       "      <td>69.020175</td>\n",
       "      <td>15.262418</td>\n",
       "      <td>2491.316456</td>\n",
       "      <td>6.329714</td>\n",
       "      <td>3110.240364</td>\n",
       "      <td>9.904634</td>\n",
       "      <td>8.622344</td>\n",
       "      <td>15.882851</td>\n",
       "      <td>6.126306</td>\n",
       "      <td>...</td>\n",
       "      <td>325.290328</td>\n",
       "      <td>0.830480</td>\n",
       "      <td>0.251250</td>\n",
       "      <td>0.940407</td>\n",
       "      <td>1388.571474</td>\n",
       "      <td>0.083777</td>\n",
       "      <td>1413.327397</td>\n",
       "      <td>2875.831691</td>\n",
       "      <td>5.261927</td>\n",
       "      <td>143.703006</td>\n",
       "    </tr>\n",
       "    <tr>\n",
       "      <th>min</th>\n",
       "      <td>124.000000</td>\n",
       "      <td>124.000000</td>\n",
       "      <td>3.000000</td>\n",
       "      <td>5080.000000</td>\n",
       "      <td>23.570000</td>\n",
       "      <td>5504.000000</td>\n",
       "      <td>60.570000</td>\n",
       "      <td>0.000000</td>\n",
       "      <td>23.000000</td>\n",
       "      <td>2.000000</td>\n",
       "      <td>...</td>\n",
       "      <td>348.000000</td>\n",
       "      <td>1.671717</td>\n",
       "      <td>0.057915</td>\n",
       "      <td>1.757576</td>\n",
       "      <td>1426.000000</td>\n",
       "      <td>0.276250</td>\n",
       "      <td>2404.000000</td>\n",
       "      <td>4914.000000</td>\n",
       "      <td>37.624032</td>\n",
       "      <td>311.444444</td>\n",
       "    </tr>\n",
       "    <tr>\n",
       "      <th>25%</th>\n",
       "      <td>193.000000</td>\n",
       "      <td>180.000000</td>\n",
       "      <td>16.500000</td>\n",
       "      <td>5782.500000</td>\n",
       "      <td>34.985000</td>\n",
       "      <td>7457.000000</td>\n",
       "      <td>74.090000</td>\n",
       "      <td>6.000000</td>\n",
       "      <td>35.500000</td>\n",
       "      <td>8.000000</td>\n",
       "      <td>...</td>\n",
       "      <td>551.500000</td>\n",
       "      <td>2.393058</td>\n",
       "      <td>0.232381</td>\n",
       "      <td>2.753882</td>\n",
       "      <td>2319.000000</td>\n",
       "      <td>0.369035</td>\n",
       "      <td>3288.500000</td>\n",
       "      <td>6818.000000</td>\n",
       "      <td>45.574814</td>\n",
       "      <td>439.366667</td>\n",
       "    </tr>\n",
       "    <tr>\n",
       "      <th>50%</th>\n",
       "      <td>227.000000</td>\n",
       "      <td>217.000000</td>\n",
       "      <td>29.000000</td>\n",
       "      <td>6912.000000</td>\n",
       "      <td>38.640000</td>\n",
       "      <td>9155.000000</td>\n",
       "      <td>78.960000</td>\n",
       "      <td>10.000000</td>\n",
       "      <td>42.000000</td>\n",
       "      <td>13.000000</td>\n",
       "      <td>...</td>\n",
       "      <td>701.000000</td>\n",
       "      <td>2.876494</td>\n",
       "      <td>0.408840</td>\n",
       "      <td>3.293680</td>\n",
       "      <td>2950.000000</td>\n",
       "      <td>0.423191</td>\n",
       "      <td>3918.000000</td>\n",
       "      <td>8429.000000</td>\n",
       "      <td>49.628070</td>\n",
       "      <td>539.545455</td>\n",
       "    </tr>\n",
       "    <tr>\n",
       "      <th>75%</th>\n",
       "      <td>276.500000</td>\n",
       "      <td>257.000000</td>\n",
       "      <td>40.000000</td>\n",
       "      <td>8674.500000</td>\n",
       "      <td>42.450000</td>\n",
       "      <td>10976.000000</td>\n",
       "      <td>87.175000</td>\n",
       "      <td>16.000000</td>\n",
       "      <td>52.500000</td>\n",
       "      <td>16.000000</td>\n",
       "      <td>...</td>\n",
       "      <td>907.500000</td>\n",
       "      <td>3.655702</td>\n",
       "      <td>0.556075</td>\n",
       "      <td>4.136464</td>\n",
       "      <td>3924.000000</td>\n",
       "      <td>0.497605</td>\n",
       "      <td>4998.000000</td>\n",
       "      <td>10124.000000</td>\n",
       "      <td>53.021266</td>\n",
       "      <td>661.291667</td>\n",
       "    </tr>\n",
       "    <tr>\n",
       "      <th>max</th>\n",
       "      <td>463.000000</td>\n",
       "      <td>452.000000</td>\n",
       "      <td>84.000000</td>\n",
       "      <td>18426.000000</td>\n",
       "      <td>59.070000</td>\n",
       "      <td>21368.000000</td>\n",
       "      <td>117.000000</td>\n",
       "      <td>49.000000</td>\n",
       "      <td>96.000000</td>\n",
       "      <td>34.000000</td>\n",
       "      <td>...</td>\n",
       "      <td>2211.000000</td>\n",
       "      <td>5.373239</td>\n",
       "      <td>1.125850</td>\n",
       "      <td>5.880282</td>\n",
       "      <td>9234.000000</td>\n",
       "      <td>0.645957</td>\n",
       "      <td>9192.000000</td>\n",
       "      <td>19157.000000</td>\n",
       "      <td>59.716880</td>\n",
       "      <td>948.933333</td>\n",
       "    </tr>\n",
       "  </tbody>\n",
       "</table>\n",
       "<p>8 rows × 33 columns</p>\n",
       "</div>"
      ],
      "text/plain": [
       "              Mat        Inns         NO          Runs        Ave  \\\n",
       "count   91.000000   91.000000  91.000000     91.000000  91.000000   \n",
       "mean   241.780220  227.538462  29.483516   7633.681319  39.165385   \n",
       "std     73.302691   69.020175  15.262418   2491.316456   6.329714   \n",
       "min    124.000000  124.000000   3.000000   5080.000000  23.570000   \n",
       "25%    193.000000  180.000000  16.500000   5782.500000  34.985000   \n",
       "50%    227.000000  217.000000  29.000000   6912.000000  38.640000   \n",
       "75%    276.500000  257.000000  40.000000   8674.500000  42.450000   \n",
       "max    463.000000  452.000000  84.000000  18426.000000  59.070000   \n",
       "\n",
       "                 BF          SR        100         50          0  ...  \\\n",
       "count     91.000000   91.000000  91.000000  91.000000  91.000000  ...   \n",
       "mean    9586.505495   80.349231  12.208791  46.153846  12.846154  ...   \n",
       "std     3110.240364    9.904634   8.622344  15.882851   6.126306  ...   \n",
       "min     5504.000000   60.570000   0.000000  23.000000   2.000000  ...   \n",
       "25%     7457.000000   74.090000   6.000000  35.500000   8.000000  ...   \n",
       "50%     9155.000000   78.960000  10.000000  42.000000  13.000000  ...   \n",
       "75%    10976.000000   87.175000  16.000000  52.500000  16.000000  ...   \n",
       "max    21368.000000  117.000000  49.000000  96.000000  34.000000  ...   \n",
       "\n",
       "        boundaries  4s per Inns  6s per Inns  boundaries per innings  \\\n",
       "count    91.000000    91.000000    91.000000               91.000000   \n",
       "mean    784.604396     3.042127     0.428851                3.470978   \n",
       "std     325.290328     0.830480     0.251250                0.940407   \n",
       "min     348.000000     1.671717     0.057915                1.757576   \n",
       "25%     551.500000     2.393058     0.232381                2.753882   \n",
       "50%     701.000000     2.876494     0.408840                3.293680   \n",
       "75%     907.500000     3.655702     0.556075                4.136464   \n",
       "max    2211.000000     5.373239     1.125850                5.880282   \n",
       "\n",
       "       runs scored by boundaries  boundaries to runs ratio  \\\n",
       "count                  91.000000                 91.000000   \n",
       "mean                 3331.868132                  0.431950   \n",
       "std                  1388.571474                  0.083777   \n",
       "min                  1426.000000                  0.276250   \n",
       "25%                  2319.000000                  0.369035   \n",
       "50%                  2950.000000                  0.423191   \n",
       "75%                  3924.000000                  0.497605   \n",
       "max                  9234.000000                  0.645957   \n",
       "\n",
       "       runs without boundaries  BF without boundaries  \\\n",
       "count                91.000000              91.000000   \n",
       "mean               4301.813187            8801.901099   \n",
       "std                1413.327397            2875.831691   \n",
       "min                2404.000000            4914.000000   \n",
       "25%                3288.500000            6818.000000   \n",
       "50%                3918.000000            8429.000000   \n",
       "75%                4998.000000           10124.000000   \n",
       "max                9192.000000           19157.000000   \n",
       "\n",
       "       Strike Rate without boundaries  Avg runs per year  \n",
       "count                       91.000000          91.000000  \n",
       "mean                        49.138105         555.157718  \n",
       "std                          5.261927         143.703006  \n",
       "min                         37.624032         311.444444  \n",
       "25%                         45.574814         439.366667  \n",
       "50%                         49.628070         539.545455  \n",
       "75%                         53.021266         661.291667  \n",
       "max                         59.716880         948.933333  \n",
       "\n",
       "[8 rows x 33 columns]"
      ]
     },
     "execution_count": 33,
     "metadata": {},
     "output_type": "execute_result"
    }
   ],
   "source": [
    "\n",
    "df.describe()"
   ]
  },
  {
   "cell_type": "code",
   "execution_count": 65,
   "id": "b863593c",
   "metadata": {},
   "outputs": [
    {
     "data": {
      "text/plain": [
       "Text(0.5, 1.0, 'Country wise distribution')"
      ]
     },
     "execution_count": 65,
     "metadata": {},
     "output_type": "execute_result"
    },
    {
     "data": {
      "image/png": "[encoded data removed]",
      "text/plain": [
       "<Figure size 1008x576 with 1 Axes>"
      ]
     },
     "metadata": {
      "needs_background": "light"
     },
     "output_type": "display_data"
    }
   ],
   "source": [
    "df.Country.hist(grid=False, figsize=(14, 8), bins=10, color='purple', edgecolor='black')\n",
    "plt.ylabel(\"# of Players\")\n",
    "plt.xlabel(\"Countries\")\n",
    "plt.title(\"Country wise distribution\")"
   ]
  },
  {
   "cell_type": "code",
   "execution_count": 78,
   "id": "3c923b7f",
   "metadata": {},
   "outputs": [
    {
     "data": {
      "text/plain": [
       "([<matplotlib.axis.YTick at 0x7fa570120610>,\n",
       "  <matplotlib.axis.YTick at 0x7fa570118e50>,\n",
       "  <matplotlib.axis.YTick at 0x7fa5702a4c10>,\n",
       "  <matplotlib.axis.YTick at 0x7fa5700da5e0>,\n",
       "  <matplotlib.axis.YTick at 0x7fa5700dad30>,\n",
       "  <matplotlib.axis.YTick at 0x7fa5700e34c0>],\n",
       " [Text(0, 0, ''),\n",
       "  Text(0, 0, ''),\n",
       "  Text(0, 0, ''),\n",
       "  Text(0, 0, ''),\n",
       "  Text(0, 0, ''),\n",
       "  Text(0, 0, '')])"
      ]
     },
     "execution_count": 78,
     "metadata": {},
     "output_type": "execute_result"
    },
    {
     "data": {
      "image/png": "[encoded data removed]",
      "text/plain": [
       "<Figure size 1008x576 with 1 Axes>"
      ]
     },
     "metadata": {
      "needs_background": "light"
     },
     "output_type": "display_data"
    }
   ],
   "source": [
    "df.Ave.hist(grid=False, figsize=(14, 8), bins=10, color='purple', edgecolor='black', align='right')\n",
    "plt.ylabel(\"# of Players\")\n",
    "plt.xlabel(\"Batting Average\")\n",
    "plt.title(\"Batting Average Distribution\")\n",
    "plt.yticks(range(0,30,5))"
   ]
  },
  {
   "cell_type": "code",
   "execution_count": 121,
   "id": "f67d47b3",
   "metadata": {},
   "outputs": [
    {
     "data": {
      "text/plain": [
       "([<matplotlib.axis.YTick at 0x7fa56ea1a6d0>,\n",
       "  <matplotlib.axis.YTick at 0x7fa56ea11f10>,\n",
       "  <matplotlib.axis.YTick at 0x7fa56ea711c0>,\n",
       "  <matplotlib.axis.YTick at 0x7fa56e9d7370>,\n",
       "  <matplotlib.axis.YTick at 0x7fa56e9d7ac0>,\n",
       "  <matplotlib.axis.YTick at 0x7fa56e9dd250>],\n",
       " [Text(0, 0, ''),\n",
       "  Text(0, 0, ''),\n",
       "  Text(0, 0, ''),\n",
       "  Text(0, 0, ''),\n",
       "  Text(0, 0, ''),\n",
       "  Text(0, 0, '')])"
      ]
     },
     "execution_count": 121,
     "metadata": {},
     "output_type": "execute_result"
    },
    {
     "data": {
      "image/png": "[encoded data removed]",
      "text/plain": [
       "<Figure size 1008x576 with 1 Axes>"
      ]
     },
     "metadata": {
      "needs_background": "light"
     },
     "output_type": "display_data"
    }
   ],
   "source": [
    "df['Arithmatic Average of Total Runs by Inns Played'].hist(grid=False, color='purple', figsize=(14, 8), edgecolor='black')\n",
    "plt.xlabel('Average By Inngs')\n",
    "plt.ylabel('# of Players')\n",
    "plt.title(\"Batting Average Distribution by Inns played\")\n",
    "plt.yticks(range(0,30, 5))"
   ]
  },
  {
   "cell_type": "code",
   "execution_count": 84,
   "id": "e4b531e4",
   "metadata": {},
   "outputs": [
    {
     "data": {
      "text/plain": [
       "Text(0.5, 1.0, 'Strike Rate Distribution')"
      ]
     },
     "execution_count": 84,
     "metadata": {},
     "output_type": "execute_result"
    },
    {
     "data": {
      "image/png": "[encoded data removed]",
      "text/plain": [
       "<Figure size 1008x576 with 1 Axes>"
      ]
     },
     "metadata": {
      "needs_background": "light"
     },
     "output_type": "display_data"
    }
   ],
   "source": [
    "df.SR.hist(grid=False, figsize=(14, 8), bins=10, color='purple', align='right')\n",
    "plt.ylabel(\"# of Players\")\n",
    "plt.xlabel(\"Strike Rate\")\n",
    "plt.title(\"Strike Rate Distribution\")\n",
    "# plt.yticks(range(0,30,5))"
   ]
  },
  {
   "cell_type": "code",
   "execution_count": 105,
   "id": "c88d1902",
   "metadata": {},
   "outputs": [
    {
     "data": {
      "text/plain": [
       "([<matplotlib.axis.XTick at 0x7fa56f5ee7c0>,\n",
       "  <matplotlib.axis.XTick at 0x7fa56f5ee790>],\n",
       " [Text(0, 0, ''), Text(0, 0, '')])"
      ]
     },
     "execution_count": 105,
     "metadata": {},
     "output_type": "execute_result"
    },
    {
     "data": {
      "image/png": "[encoded data removed]",
      "text/plain": [
       "<Figure size 432x288 with 1 Axes>"
      ]
     },
     "metadata": {
      "needs_background": "light"
     },
     "output_type": "display_data"
    }
   ],
   "source": [
    "df['Not Out when scored highest'].hist(grid=False, color='purple', edgecolor='black')\n",
    "plt.xlabel(\"0 for Out and 1 for Not Out\")\n",
    "plt.ylabel(\"# No of Players\")\n",
    "\n",
    "plt.xticks([0,1])"
   ]
  },
  {
   "cell_type": "code",
   "execution_count": 116,
   "id": "f6d91e83",
   "metadata": {},
   "outputs": [
    {
     "data": {
      "text/plain": [
       "array([[<AxesSubplot:title={'center':'100'}>,\n",
       "        <AxesSubplot:title={'center':'50'}>]], dtype=object)"
      ]
     },
     "execution_count": 116,
     "metadata": {},
     "output_type": "execute_result"
    },
    {
     "data": {
      "image/png": "[encoded data removed]",
      "text/plain": [
       "<Figure size 1008x576 with 2 Axes>"
      ]
     },
     "metadata": {
      "needs_background": "light"
     },
     "output_type": "display_data"
    }
   ],
   "source": [
    "df.hist(column=['100','50'], grid=False, figsize=(14, 8), bins=10, color='purple')"
   ]
  },
  {
   "cell_type": "code",
   "execution_count": 127,
   "id": "abe96f6d",
   "metadata": {},
   "outputs": [
    {
     "data": {
      "text/plain": [
       "Text(0.5, 1.0, 'Total Years Played Distribution')"
      ]
     },
     "execution_count": 127,
     "metadata": {},
     "output_type": "execute_result"
    },
    {
     "data": {
      "image/png": "[encoded data removed]",
      "text/plain": [
       "<Figure size 1008x576 with 1 Axes>"
      ]
     },
     "metadata": {
      "needs_background": "light"
     },
     "output_type": "display_data"
    }
   ],
   "source": [
    "df['Total Years'].hist(grid=False, color='purple', figsize=(14, 8))\n",
    "plt.xlabel('Total Years')\n",
    "plt.ylabel('# of players')\n",
    "plt.yticks(range(0, 25, 5))\n",
    "plt.title('Total Years Played Distribution')"
   ]
  },
  {
   "cell_type": "code",
   "execution_count": 144,
   "id": "b65f25ae",
   "metadata": {},
   "outputs": [
    {
     "data": {
      "text/plain": [
       "Index(['Player', 'Span', 'Mat', 'Inns', 'NO', 'Runs', 'HS', 'Ave', 'BF', 'SR',\n",
       "       '100', '50', '0', '4s', '6s', 'Country', 'Debut Year', 'Last Year',\n",
       "       'Total Years', 'Innings per Matches', 'Not outs per innings',\n",
       "       'Arithmatic Average of Total Runs by Inns Played',\n",
       "       'Not Out when scored highest', 'HS Numeric', '100's per innings',\n",
       "       '50's per innings', '0's per innings', '4s numeric', '6s numeric',\n",
       "       'boundaries', '4s per Inns', '6s per Inns', 'boundaries per innings',\n",
       "       'runs scored by boundaries', 'boundaries to runs ratio',\n",
       "       'runs without boundaries', 'BF without boundaries',\n",
       "       'Strike Rate without boundaries', 'Avg runs per year'],\n",
       "      dtype='object')"
      ]
     },
     "execution_count": 144,
     "metadata": {},
     "output_type": "execute_result"
    }
   ],
   "source": [
    "df.columns"
   ]
  },
  {
   "cell_type": "code",
   "execution_count": 151,
   "id": "1ff67c7d",
   "metadata": {
    "scrolled": false
   },
   "outputs": [
    {
     "data": {
      "text/plain": [
       "4s per Inns                                        1.000000\n",
       "boundaries per innings                             0.967322\n",
       "100's per innings                                  0.842073\n",
       "Arithmatic Average of Total Runs by Inns Played    0.800763\n",
       "100                                                0.699865\n",
       "boundaries to runs ratio                           0.667661\n",
       "HS Numeric                                         0.657879\n",
       "4s numeric                                         0.560042\n",
       "boundaries                                         0.538269\n",
       "Innings per Matches                                0.524911\n",
       "runs scored by boundaries                          0.524150\n",
       "Ave                                                0.503373\n",
       "Avg runs per year                                  0.456602\n",
       "SR                                                 0.431291\n",
       "Debut Year                                         0.430580\n",
       "Last Year                                          0.412885\n",
       "50's per innings                                   0.336882\n",
       "6s per Inns                                        0.315209\n",
       "Runs                                               0.291545\n",
       "6s numeric                                         0.206863\n",
       "BF                                                 0.133161\n",
       "50                                                 0.118703\n",
       "BF without boundaries                              0.083130\n",
       "runs without boundaries                           -0.001054\n",
       "Inns                                              -0.076234\n",
       "0                                                 -0.095465\n",
       "0's per innings                                   -0.095537\n",
       "Total Years                                       -0.136885\n",
       "Mat                                               -0.148333\n",
       "Not Out when scored highest                       -0.229741\n",
       "Strike Rate without boundaries                    -0.276459\n",
       "NO                                                -0.526961\n",
       "Not outs per innings                              -0.558949\n",
       "Name: 4s per Inns, dtype: float64"
      ]
     },
     "execution_count": 151,
     "metadata": {},
     "output_type": "execute_result"
    }
   ],
   "source": [
    "corr = df.corr()\n",
    "corr['4s per Inns'].sort_values(ascending=False)\n"
   ]
  }
 ],
 "metadata": {
  "kernelspec": {
   "display_name": "Python 3 (ipykernel)",
   "language": "python",
   "name": "python3"
  },
  "language_info": {
   "codemirror_mode": {
    "name": "ipython",
    "version": 3
   },
   "file_extension": ".py",
   "mimetype": "text/x-python",
   "name": "python",
   "nbconvert_exporter": "python",
   "pygments_lexer": "ipython3",
   "version": "3.9.7"
  }
 },
 "nbformat": 4,
 "nbformat_minor": 5
}
