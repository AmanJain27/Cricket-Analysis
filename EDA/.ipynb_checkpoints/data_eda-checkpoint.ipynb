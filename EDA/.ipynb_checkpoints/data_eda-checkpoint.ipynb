{
 "cells": [
  {
   "cell_type": "code",
   "execution_count": 19,
   "id": "d4f4d435",
   "metadata": {},
   "outputs": [],
   "source": [
    "import pandas as pd\n",
    "import matplotlib.pyplot as plt"
   ]
  },
  {
   "cell_type": "code",
   "execution_count": 20,
   "id": "aecf45b1",
   "metadata": {},
   "outputs": [],
   "source": [
    "df = pd.read_csv(\"../Data Cleaning/scores_reference.csv\", index_col=0)"
   ]
  },
  {
   "cell_type": "code",
   "execution_count": 21,
   "id": "c783ff9f",
   "metadata": {},
   "outputs": [
    {
     "data": {
      "text/plain": [
       "Index(['Player', 'Span', 'Mat', 'Inns', 'NO', 'Runs', 'HS', 'Ave', 'BF', 'SR',\n",
       "       '100', '50', '0', '4s', '6s', 'Country', 'Debut Year', 'Last Year',\n",
       "       'Total Years', 'Innings per Matches', 'Not outs per innings',\n",
       "       'Arithmatic Average of Total Runs by Inns Played',\n",
       "       'Not Out when scored highest', 'HS Numeric', '100's per innings',\n",
       "       '50's per innings', '0's per innings', '4s numeric', '6s numeric',\n",
       "       'boundaries', '4s per Inns', '6s per Inns', 'Boundary Ave per Inns',\n",
       "       'boundaries per innings', 'runs scored by boundaries',\n",
       "       'boundaries to runs ratio', 'runs without boundaries',\n",
       "       'BF without boundaries', 'Strike Rate without boundaries',\n",
       "       'Avg runs per year'],\n",
       "      dtype='object')"
      ]
     },
     "execution_count": 21,
     "metadata": {},
     "output_type": "execute_result"
    }
   ],
   "source": [
    "\n",
    "df.columns"
   ]
  },
  {
   "cell_type": "code",
   "execution_count": 22,
   "id": "cedfaddd",
   "metadata": {},
   "outputs": [
    {
     "data": {
      "text/html": [
       "<div>\n",
       "<style scoped>\n",
       "    .dataframe tbody tr th:only-of-type {\n",
       "        vertical-align: middle;\n",
       "    }\n",
       "\n",
       "    .dataframe tbody tr th {\n",
       "        vertical-align: top;\n",
       "    }\n",
       "\n",
       "    .dataframe thead th {\n",
       "        text-align: right;\n",
       "    }\n",
       "</style>\n",
       "<table border=\"1\" class=\"dataframe\">\n",
       "  <thead>\n",
       "    <tr style=\"text-align: right;\">\n",
       "      <th></th>\n",
       "      <th>Mat</th>\n",
       "      <th>Inns</th>\n",
       "      <th>NO</th>\n",
       "      <th>Runs</th>\n",
       "      <th>Ave</th>\n",
       "      <th>BF</th>\n",
       "      <th>SR</th>\n",
       "      <th>100</th>\n",
       "      <th>50</th>\n",
       "      <th>0</th>\n",
       "      <th>...</th>\n",
       "      <th>4s per Inns</th>\n",
       "      <th>6s per Inns</th>\n",
       "      <th>Boundary Ave per Inns</th>\n",
       "      <th>boundaries per innings</th>\n",
       "      <th>runs scored by boundaries</th>\n",
       "      <th>boundaries to runs ratio</th>\n",
       "      <th>runs without boundaries</th>\n",
       "      <th>BF without boundaries</th>\n",
       "      <th>Strike Rate without boundaries</th>\n",
       "      <th>Avg runs per year</th>\n",
       "    </tr>\n",
       "  </thead>\n",
       "  <tbody>\n",
       "    <tr>\n",
       "      <th>count</th>\n",
       "      <td>91.000000</td>\n",
       "      <td>91.000000</td>\n",
       "      <td>91.000000</td>\n",
       "      <td>91.000000</td>\n",
       "      <td>91.000000</td>\n",
       "      <td>91.000000</td>\n",
       "      <td>91.000000</td>\n",
       "      <td>91.000000</td>\n",
       "      <td>91.000000</td>\n",
       "      <td>91.000000</td>\n",
       "      <td>...</td>\n",
       "      <td>91.000000</td>\n",
       "      <td>91.000000</td>\n",
       "      <td>91.000000</td>\n",
       "      <td>91.000000</td>\n",
       "      <td>91.000000</td>\n",
       "      <td>91.000000</td>\n",
       "      <td>91.000000</td>\n",
       "      <td>91.000000</td>\n",
       "      <td>91.000000</td>\n",
       "      <td>91.000000</td>\n",
       "    </tr>\n",
       "    <tr>\n",
       "      <th>mean</th>\n",
       "      <td>241.780220</td>\n",
       "      <td>227.538462</td>\n",
       "      <td>29.483516</td>\n",
       "      <td>7633.681319</td>\n",
       "      <td>39.165385</td>\n",
       "      <td>9586.505495</td>\n",
       "      <td>80.349231</td>\n",
       "      <td>12.208791</td>\n",
       "      <td>46.153846</td>\n",
       "      <td>12.846154</td>\n",
       "      <td>...</td>\n",
       "      <td>3.042127</td>\n",
       "      <td>0.428851</td>\n",
       "      <td>14.741613</td>\n",
       "      <td>3.470978</td>\n",
       "      <td>3331.868132</td>\n",
       "      <td>0.431950</td>\n",
       "      <td>4301.813187</td>\n",
       "      <td>8801.901099</td>\n",
       "      <td>49.138105</td>\n",
       "      <td>555.157718</td>\n",
       "    </tr>\n",
       "    <tr>\n",
       "      <th>std</th>\n",
       "      <td>73.302691</td>\n",
       "      <td>69.020175</td>\n",
       "      <td>15.262418</td>\n",
       "      <td>2491.316456</td>\n",
       "      <td>6.329714</td>\n",
       "      <td>3110.240364</td>\n",
       "      <td>9.904634</td>\n",
       "      <td>8.622344</td>\n",
       "      <td>15.882851</td>\n",
       "      <td>6.126306</td>\n",
       "      <td>...</td>\n",
       "      <td>0.830480</td>\n",
       "      <td>0.251250</td>\n",
       "      <td>4.057672</td>\n",
       "      <td>0.940407</td>\n",
       "      <td>1388.571474</td>\n",
       "      <td>0.083777</td>\n",
       "      <td>1413.327397</td>\n",
       "      <td>2875.831691</td>\n",
       "      <td>5.261927</td>\n",
       "      <td>143.703006</td>\n",
       "    </tr>\n",
       "    <tr>\n",
       "      <th>min</th>\n",
       "      <td>124.000000</td>\n",
       "      <td>124.000000</td>\n",
       "      <td>3.000000</td>\n",
       "      <td>5080.000000</td>\n",
       "      <td>23.570000</td>\n",
       "      <td>5504.000000</td>\n",
       "      <td>60.570000</td>\n",
       "      <td>0.000000</td>\n",
       "      <td>23.000000</td>\n",
       "      <td>2.000000</td>\n",
       "      <td>...</td>\n",
       "      <td>1.671717</td>\n",
       "      <td>0.057915</td>\n",
       "      <td>7.202020</td>\n",
       "      <td>1.757576</td>\n",
       "      <td>1426.000000</td>\n",
       "      <td>0.276250</td>\n",
       "      <td>2404.000000</td>\n",
       "      <td>4914.000000</td>\n",
       "      <td>37.624032</td>\n",
       "      <td>311.444444</td>\n",
       "    </tr>\n",
       "    <tr>\n",
       "      <th>25%</th>\n",
       "      <td>193.000000</td>\n",
       "      <td>180.000000</td>\n",
       "      <td>16.500000</td>\n",
       "      <td>5782.500000</td>\n",
       "      <td>34.985000</td>\n",
       "      <td>7457.000000</td>\n",
       "      <td>74.090000</td>\n",
       "      <td>6.000000</td>\n",
       "      <td>35.500000</td>\n",
       "      <td>8.000000</td>\n",
       "      <td>...</td>\n",
       "      <td>2.393058</td>\n",
       "      <td>0.232381</td>\n",
       "      <td>11.635985</td>\n",
       "      <td>2.753882</td>\n",
       "      <td>2319.000000</td>\n",
       "      <td>0.369035</td>\n",
       "      <td>3288.500000</td>\n",
       "      <td>6818.000000</td>\n",
       "      <td>45.574814</td>\n",
       "      <td>439.366667</td>\n",
       "    </tr>\n",
       "    <tr>\n",
       "      <th>50%</th>\n",
       "      <td>227.000000</td>\n",
       "      <td>217.000000</td>\n",
       "      <td>29.000000</td>\n",
       "      <td>6912.000000</td>\n",
       "      <td>38.640000</td>\n",
       "      <td>9155.000000</td>\n",
       "      <td>78.960000</td>\n",
       "      <td>10.000000</td>\n",
       "      <td>42.000000</td>\n",
       "      <td>13.000000</td>\n",
       "      <td>...</td>\n",
       "      <td>2.876494</td>\n",
       "      <td>0.408840</td>\n",
       "      <td>14.222930</td>\n",
       "      <td>3.293680</td>\n",
       "      <td>2950.000000</td>\n",
       "      <td>0.423191</td>\n",
       "      <td>3918.000000</td>\n",
       "      <td>8429.000000</td>\n",
       "      <td>49.628070</td>\n",
       "      <td>539.545455</td>\n",
       "    </tr>\n",
       "    <tr>\n",
       "      <th>75%</th>\n",
       "      <td>276.500000</td>\n",
       "      <td>257.000000</td>\n",
       "      <td>40.000000</td>\n",
       "      <td>8674.500000</td>\n",
       "      <td>42.450000</td>\n",
       "      <td>10976.000000</td>\n",
       "      <td>87.175000</td>\n",
       "      <td>16.000000</td>\n",
       "      <td>52.500000</td>\n",
       "      <td>16.000000</td>\n",
       "      <td>...</td>\n",
       "      <td>3.655702</td>\n",
       "      <td>0.556075</td>\n",
       "      <td>17.603200</td>\n",
       "      <td>4.136464</td>\n",
       "      <td>3924.000000</td>\n",
       "      <td>0.497605</td>\n",
       "      <td>4998.000000</td>\n",
       "      <td>10124.000000</td>\n",
       "      <td>53.021266</td>\n",
       "      <td>661.291667</td>\n",
       "    </tr>\n",
       "    <tr>\n",
       "      <th>max</th>\n",
       "      <td>463.000000</td>\n",
       "      <td>452.000000</td>\n",
       "      <td>84.000000</td>\n",
       "      <td>18426.000000</td>\n",
       "      <td>59.070000</td>\n",
       "      <td>21368.000000</td>\n",
       "      <td>117.000000</td>\n",
       "      <td>49.000000</td>\n",
       "      <td>96.000000</td>\n",
       "      <td>34.000000</td>\n",
       "      <td>...</td>\n",
       "      <td>5.373239</td>\n",
       "      <td>1.125850</td>\n",
       "      <td>24.535211</td>\n",
       "      <td>5.880282</td>\n",
       "      <td>9234.000000</td>\n",
       "      <td>0.645957</td>\n",
       "      <td>9192.000000</td>\n",
       "      <td>19157.000000</td>\n",
       "      <td>59.716880</td>\n",
       "      <td>948.933333</td>\n",
       "    </tr>\n",
       "  </tbody>\n",
       "</table>\n",
       "<p>8 rows × 34 columns</p>\n",
       "</div>"
      ],
      "text/plain": [
       "              Mat        Inns         NO          Runs        Ave  \\\n",
       "count   91.000000   91.000000  91.000000     91.000000  91.000000   \n",
       "mean   241.780220  227.538462  29.483516   7633.681319  39.165385   \n",
       "std     73.302691   69.020175  15.262418   2491.316456   6.329714   \n",
       "min    124.000000  124.000000   3.000000   5080.000000  23.570000   \n",
       "25%    193.000000  180.000000  16.500000   5782.500000  34.985000   \n",
       "50%    227.000000  217.000000  29.000000   6912.000000  38.640000   \n",
       "75%    276.500000  257.000000  40.000000   8674.500000  42.450000   \n",
       "max    463.000000  452.000000  84.000000  18426.000000  59.070000   \n",
       "\n",
       "                 BF          SR        100         50          0  ...  \\\n",
       "count     91.000000   91.000000  91.000000  91.000000  91.000000  ...   \n",
       "mean    9586.505495   80.349231  12.208791  46.153846  12.846154  ...   \n",
       "std     3110.240364    9.904634   8.622344  15.882851   6.126306  ...   \n",
       "min     5504.000000   60.570000   0.000000  23.000000   2.000000  ...   \n",
       "25%     7457.000000   74.090000   6.000000  35.500000   8.000000  ...   \n",
       "50%     9155.000000   78.960000  10.000000  42.000000  13.000000  ...   \n",
       "75%    10976.000000   87.175000  16.000000  52.500000  16.000000  ...   \n",
       "max    21368.000000  117.000000  49.000000  96.000000  34.000000  ...   \n",
       "\n",
       "       4s per Inns  6s per Inns  Boundary Ave per Inns  \\\n",
       "count    91.000000    91.000000              91.000000   \n",
       "mean      3.042127     0.428851              14.741613   \n",
       "std       0.830480     0.251250               4.057672   \n",
       "min       1.671717     0.057915               7.202020   \n",
       "25%       2.393058     0.232381              11.635985   \n",
       "50%       2.876494     0.408840              14.222930   \n",
       "75%       3.655702     0.556075              17.603200   \n",
       "max       5.373239     1.125850              24.535211   \n",
       "\n",
       "       boundaries per innings  runs scored by boundaries  \\\n",
       "count               91.000000                  91.000000   \n",
       "mean                 3.470978                3331.868132   \n",
       "std                  0.940407                1388.571474   \n",
       "min                  1.757576                1426.000000   \n",
       "25%                  2.753882                2319.000000   \n",
       "50%                  3.293680                2950.000000   \n",
       "75%                  4.136464                3924.000000   \n",
       "max                  5.880282                9234.000000   \n",
       "\n",
       "       boundaries to runs ratio  runs without boundaries  \\\n",
       "count                 91.000000                91.000000   \n",
       "mean                   0.431950              4301.813187   \n",
       "std                    0.083777              1413.327397   \n",
       "min                    0.276250              2404.000000   \n",
       "25%                    0.369035              3288.500000   \n",
       "50%                    0.423191              3918.000000   \n",
       "75%                    0.497605              4998.000000   \n",
       "max                    0.645957              9192.000000   \n",
       "\n",
       "       BF without boundaries  Strike Rate without boundaries  \\\n",
       "count              91.000000                       91.000000   \n",
       "mean             8801.901099                       49.138105   \n",
       "std              2875.831691                        5.261927   \n",
       "min              4914.000000                       37.624032   \n",
       "25%              6818.000000                       45.574814   \n",
       "50%              8429.000000                       49.628070   \n",
       "75%             10124.000000                       53.021266   \n",
       "max             19157.000000                       59.716880   \n",
       "\n",
       "       Avg runs per year  \n",
       "count          91.000000  \n",
       "mean          555.157718  \n",
       "std           143.703006  \n",
       "min           311.444444  \n",
       "25%           439.366667  \n",
       "50%           539.545455  \n",
       "75%           661.291667  \n",
       "max           948.933333  \n",
       "\n",
       "[8 rows x 34 columns]"
      ]
     },
     "execution_count": 22,
     "metadata": {},
     "output_type": "execute_result"
    }
   ],
   "source": [
    "\n",
    "df.describe()"
   ]
  },
  {
   "cell_type": "code",
   "execution_count": 23,
   "id": "b863593c",
   "metadata": {},
   "outputs": [
    {
     "data": {
      "text/plain": [
       "Text(0.5, 1.0, 'Country wise distribution')"
      ]
     },
     "execution_count": 23,
     "metadata": {},
     "output_type": "execute_result"
    },
    {
     "data": {
      "image/png": "[encoded data removed]",
      "text/plain": [
       "<Figure size 1008x576 with 1 Axes>"
      ]
     },
     "metadata": {
      "needs_background": "light"
     },
     "output_type": "display_data"
    }
   ],
   "source": [
    "df.Country.hist(grid=False, figsize=(14, 8), bins=10, color='purple', edgecolor='black')\n",
    "plt.ylabel(\"# of Players\")\n",
    "plt.xlabel(\"Countries\")\n",
    "plt.title(\"Country wise distribution\")"
   ]
  },
  {
   "cell_type": "code",
   "execution_count": 24,
   "id": "3c923b7f",
   "metadata": {},
   "outputs": [
    {
     "data": {
      "text/plain": [
       "([<matplotlib.axis.YTick at 0x7fa0ae19ce50>,\n",
       "  <matplotlib.axis.YTick at 0x7fa0ae19c6d0>,\n",
       "  <matplotlib.axis.YTick at 0x7fa0ae197640>,\n",
       "  <matplotlib.axis.YTick at 0x7fa0ae155a30>,\n",
       "  <matplotlib.axis.YTick at 0x7fa0ae15e1c0>,\n",
       "  <matplotlib.axis.YTick at 0x7fa0ae15e910>],\n",
       " [Text(0, 0, ''),\n",
       "  Text(0, 0, ''),\n",
       "  Text(0, 0, ''),\n",
       "  Text(0, 0, ''),\n",
       "  Text(0, 0, ''),\n",
       "  Text(0, 0, '')])"
      ]
     },
     "execution_count": 24,
     "metadata": {},
     "output_type": "execute_result"
    },
    {
     "data": {
      "image/png": "[encoded data removed]",
      "text/plain": [
       "<Figure size 1008x576 with 1 Axes>"
      ]
     },
     "metadata": {
      "needs_background": "light"
     },
     "output_type": "display_data"
    }
   ],
   "source": [
    "df.Ave.hist(grid=False, figsize=(14, 8), bins=10, color='purple', edgecolor='black', align='right')\n",
    "plt.ylabel(\"# of Players\")\n",
    "plt.xlabel(\"Batting Average\")\n",
    "plt.title(\"Batting Average Distribution\")\n",
    "plt.yticks(range(0,30,5))"
   ]
  },
  {
   "cell_type": "code",
   "execution_count": 25,
   "id": "f67d47b3",
   "metadata": {},
   "outputs": [
    {
     "data": {
      "text/plain": [
       "([<matplotlib.axis.YTick at 0x7fa0ae1151f0>,\n",
       "  <matplotlib.axis.YTick at 0x7fa0ae10ea30>,\n",
       "  <matplotlib.axis.YTick at 0x7fa0ae1099a0>,\n",
       "  <matplotlib.axis.YTick at 0x7fa0ae0c6d90>,\n",
       "  <matplotlib.axis.YTick at 0x7fa0ae0d3520>,\n",
       "  <matplotlib.axis.YTick at 0x7fa0ae0d3c70>],\n",
       " [Text(0, 0, ''),\n",
       "  Text(0, 0, ''),\n",
       "  Text(0, 0, ''),\n",
       "  Text(0, 0, ''),\n",
       "  Text(0, 0, ''),\n",
       "  Text(0, 0, '')])"
      ]
     },
     "execution_count": 25,
     "metadata": {},
     "output_type": "execute_result"
    },
    {
     "data": {
      "image/png": "[encoded data removed]",
      "text/plain": [
       "<Figure size 1008x576 with 1 Axes>"
      ]
     },
     "metadata": {
      "needs_background": "light"
     },
     "output_type": "display_data"
    }
   ],
   "source": [
    "df['Arithmatic Average of Total Runs by Inns Played'].hist(grid=False, color='purple', figsize=(14, 8), edgecolor='black')\n",
    "plt.xlabel('Average By Inngs')\n",
    "plt.ylabel('# of Players')\n",
    "plt.title(\"Batting Average Distribution by Inns played\")\n",
    "plt.yticks(range(0,30, 5))"
   ]
  },
  {
   "cell_type": "code",
   "execution_count": 26,
   "id": "e4b531e4",
   "metadata": {},
   "outputs": [
    {
     "data": {
      "text/plain": [
       "Text(0.5, 1.0, 'Strike Rate Distribution')"
      ]
     },
     "execution_count": 26,
     "metadata": {},
     "output_type": "execute_result"
    },
    {
     "data": {
      "image/png": "[encoded data removed]",
      "text/plain": [
       "<Figure size 1008x576 with 1 Axes>"
      ]
     },
     "metadata": {
      "needs_background": "light"
     },
     "output_type": "display_data"
    }
   ],
   "source": [
    "df.SR.hist(grid=False, figsize=(14, 8), bins=10, color='purple', align='right')\n",
    "plt.ylabel(\"# of Players\")\n",
    "plt.xlabel(\"Strike Rate\")\n",
    "plt.title(\"Strike Rate Distribution\")\n",
    "# plt.yticks(range(0,30,5))"
   ]
  },
  {
   "cell_type": "code",
   "execution_count": 27,
   "id": "c88d1902",
   "metadata": {},
   "outputs": [
    {
     "data": {
      "text/plain": [
       "([<matplotlib.axis.XTick at 0x7fa0ae060fd0>,\n",
       "  <matplotlib.axis.XTick at 0x7fa0ae060fa0>],\n",
       " [Text(0, 0, ''), Text(0, 0, '')])"
      ]
     },
     "execution_count": 27,
     "metadata": {},
     "output_type": "execute_result"
    },
    {
     "data": {
      "image/png": "[encoded data removed]",
      "text/plain": [
       "<Figure size 432x288 with 1 Axes>"
      ]
     },
     "metadata": {
      "needs_background": "light"
     },
     "output_type": "display_data"
    }
   ],
   "source": [
    "df['Not Out when scored highest'].hist(grid=False, color='purple', edgecolor='black')\n",
    "plt.xlabel(\"0 for Out and 1 for Not Out\")\n",
    "plt.ylabel(\"# No of Players\")\n",
    "\n",
    "plt.xticks([0,1])"
   ]
  },
  {
   "cell_type": "code",
   "execution_count": 28,
   "id": "f6d91e83",
   "metadata": {},
   "outputs": [
    {
     "data": {
      "text/plain": [
       "array([[<AxesSubplot:title={'center':'100'}>,\n",
       "        <AxesSubplot:title={'center':'50'}>]], dtype=object)"
      ]
     },
     "execution_count": 28,
     "metadata": {},
     "output_type": "execute_result"
    },
    {
     "data": {
      "image/png": "[encoded data removed]",
      "text/plain": [
       "<Figure size 1008x576 with 2 Axes>"
      ]
     },
     "metadata": {
      "needs_background": "light"
     },
     "output_type": "display_data"
    }
   ],
   "source": [
    "df.hist(column=['100','50'], grid=False, figsize=(14, 8), bins=10, color='purple')"
   ]
  },
  {
   "cell_type": "code",
   "execution_count": 29,
   "id": "abe96f6d",
   "metadata": {},
   "outputs": [
    {
     "data": {
      "text/plain": [
       "Text(0.5, 1.0, 'Total Years Played Distribution')"
      ]
     },
     "execution_count": 29,
     "metadata": {},
     "output_type": "execute_result"
    },
    {
     "data": {
      "image/png": "[encoded data removed]",
      "text/plain": [
       "<Figure size 1008x576 with 1 Axes>"
      ]
     },
     "metadata": {
      "needs_background": "light"
     },
     "output_type": "display_data"
    }
   ],
   "source": [
    "df['Total Years'].hist(grid=False, color='purple', figsize=(14, 8))\n",
    "plt.xlabel('Total Years')\n",
    "plt.ylabel('# of players')\n",
    "plt.yticks(range(0, 25, 5))\n",
    "plt.title('Total Years Played Distribution')"
   ]
  },
  {
   "cell_type": "code",
   "execution_count": 30,
   "id": "b65f25ae",
   "metadata": {},
   "outputs": [
    {
     "data": {
      "text/plain": [
       "Index(['Player', 'Span', 'Mat', 'Inns', 'NO', 'Runs', 'HS', 'Ave', 'BF', 'SR',\n",
       "       '100', '50', '0', '4s', '6s', 'Country', 'Debut Year', 'Last Year',\n",
       "       'Total Years', 'Innings per Matches', 'Not outs per innings',\n",
       "       'Arithmatic Average of Total Runs by Inns Played',\n",
       "       'Not Out when scored highest', 'HS Numeric', '100's per innings',\n",
       "       '50's per innings', '0's per innings', '4s numeric', '6s numeric',\n",
       "       'boundaries', '4s per Inns', '6s per Inns', 'Boundary Ave per Inns',\n",
       "       'boundaries per innings', 'runs scored by boundaries',\n",
       "       'boundaries to runs ratio', 'runs without boundaries',\n",
       "       'BF without boundaries', 'Strike Rate without boundaries',\n",
       "       'Avg runs per year'],\n",
       "      dtype='object')"
      ]
     },
     "execution_count": 30,
     "metadata": {},
     "output_type": "execute_result"
    }
   ],
   "source": [
    "df.columns"
   ]
  },
  {
   "cell_type": "code",
   "execution_count": 34,
   "id": "1ff67c7d",
   "metadata": {
    "scrolled": false
   },
   "outputs": [
    {
     "data": {
      "text/html": [
       "<div>\n",
       "<style scoped>\n",
       "    .dataframe tbody tr th:only-of-type {\n",
       "        vertical-align: middle;\n",
       "    }\n",
       "\n",
       "    .dataframe tbody tr th {\n",
       "        vertical-align: top;\n",
       "    }\n",
       "\n",
       "    .dataframe thead th {\n",
       "        text-align: right;\n",
       "    }\n",
       "</style>\n",
       "<table border=\"1\" class=\"dataframe\">\n",
       "  <thead>\n",
       "    <tr style=\"text-align: right;\">\n",
       "      <th></th>\n",
       "      <th>boundaries per innings</th>\n",
       "      <th>SR</th>\n",
       "      <th>Strike Rate without boundaries</th>\n",
       "      <th>HS Numeric</th>\n",
       "      <th>Ave</th>\n",
       "      <th>Avg runs per year</th>\n",
       "      <th>Total Years</th>\n",
       "      <th>Arithmatic Average of Total Runs by Inns Played</th>\n",
       "      <th>Boundary Ave per Inns</th>\n",
       "      <th>100's per innings</th>\n",
       "    </tr>\n",
       "  </thead>\n",
       "  <tbody>\n",
       "    <tr>\n",
       "      <th>boundaries per innings</th>\n",
       "      <td>1.000000</td>\n",
       "      <td>0.553392</td>\n",
       "      <td>-0.278128</td>\n",
       "      <td>0.716443</td>\n",
       "      <td>0.501622</td>\n",
       "      <td>0.411528</td>\n",
       "      <td>-0.107498</td>\n",
       "      <td>0.776113</td>\n",
       "      <td>0.994599</td>\n",
       "      <td>0.841795</td>\n",
       "    </tr>\n",
       "    <tr>\n",
       "      <th>SR</th>\n",
       "      <td>0.553392</td>\n",
       "      <td>1.000000</td>\n",
       "      <td>0.334199</td>\n",
       "      <td>0.429097</td>\n",
       "      <td>0.211106</td>\n",
       "      <td>0.196077</td>\n",
       "      <td>-0.047076</td>\n",
       "      <td>0.254800</td>\n",
       "      <td>0.592982</td>\n",
       "      <td>0.386554</td>\n",
       "    </tr>\n",
       "    <tr>\n",
       "      <th>Strike Rate without boundaries</th>\n",
       "      <td>-0.278128</td>\n",
       "      <td>0.334199</td>\n",
       "      <td>1.000000</td>\n",
       "      <td>-0.248890</td>\n",
       "      <td>0.358197</td>\n",
       "      <td>0.167594</td>\n",
       "      <td>-0.223011</td>\n",
       "      <td>0.073504</td>\n",
       "      <td>-0.273588</td>\n",
       "      <td>-0.073806</td>\n",
       "    </tr>\n",
       "    <tr>\n",
       "      <th>HS Numeric</th>\n",
       "      <td>0.716443</td>\n",
       "      <td>0.429097</td>\n",
       "      <td>-0.248890</td>\n",
       "      <td>1.000000</td>\n",
       "      <td>0.299092</td>\n",
       "      <td>0.322558</td>\n",
       "      <td>0.134927</td>\n",
       "      <td>0.499314</td>\n",
       "      <td>0.726963</td>\n",
       "      <td>0.612026</td>\n",
       "    </tr>\n",
       "    <tr>\n",
       "      <th>Ave</th>\n",
       "      <td>0.501622</td>\n",
       "      <td>0.211106</td>\n",
       "      <td>0.358197</td>\n",
       "      <td>0.299092</td>\n",
       "      <td>1.000000</td>\n",
       "      <td>0.524462</td>\n",
       "      <td>-0.312378</td>\n",
       "      <td>0.874211</td>\n",
       "      <td>0.491487</td>\n",
       "      <td>0.609582</td>\n",
       "    </tr>\n",
       "    <tr>\n",
       "      <th>Avg runs per year</th>\n",
       "      <td>0.411528</td>\n",
       "      <td>0.196077</td>\n",
       "      <td>0.167594</td>\n",
       "      <td>0.322558</td>\n",
       "      <td>0.524462</td>\n",
       "      <td>1.000000</td>\n",
       "      <td>-0.305745</td>\n",
       "      <td>0.577539</td>\n",
       "      <td>0.385350</td>\n",
       "      <td>0.481754</td>\n",
       "    </tr>\n",
       "    <tr>\n",
       "      <th>Total Years</th>\n",
       "      <td>-0.107498</td>\n",
       "      <td>-0.047076</td>\n",
       "      <td>-0.223011</td>\n",
       "      <td>0.134927</td>\n",
       "      <td>-0.312378</td>\n",
       "      <td>-0.305745</td>\n",
       "      <td>1.000000</td>\n",
       "      <td>-0.274517</td>\n",
       "      <td>-0.093450</td>\n",
       "      <td>-0.150724</td>\n",
       "    </tr>\n",
       "    <tr>\n",
       "      <th>Arithmatic Average of Total Runs by Inns Played</th>\n",
       "      <td>0.776113</td>\n",
       "      <td>0.254800</td>\n",
       "      <td>0.073504</td>\n",
       "      <td>0.499314</td>\n",
       "      <td>0.874211</td>\n",
       "      <td>0.577539</td>\n",
       "      <td>-0.274517</td>\n",
       "      <td>1.000000</td>\n",
       "      <td>0.751450</td>\n",
       "      <td>0.844468</td>\n",
       "    </tr>\n",
       "    <tr>\n",
       "      <th>Boundary Ave per Inns</th>\n",
       "      <td>0.994599</td>\n",
       "      <td>0.592982</td>\n",
       "      <td>-0.273588</td>\n",
       "      <td>0.726963</td>\n",
       "      <td>0.491487</td>\n",
       "      <td>0.385350</td>\n",
       "      <td>-0.093450</td>\n",
       "      <td>0.751450</td>\n",
       "      <td>1.000000</td>\n",
       "      <td>0.825875</td>\n",
       "    </tr>\n",
       "    <tr>\n",
       "      <th>100's per innings</th>\n",
       "      <td>0.841795</td>\n",
       "      <td>0.386554</td>\n",
       "      <td>-0.073806</td>\n",
       "      <td>0.612026</td>\n",
       "      <td>0.609582</td>\n",
       "      <td>0.481754</td>\n",
       "      <td>-0.150724</td>\n",
       "      <td>0.844468</td>\n",
       "      <td>0.825875</td>\n",
       "      <td>1.000000</td>\n",
       "    </tr>\n",
       "  </tbody>\n",
       "</table>\n",
       "</div>"
      ],
      "text/plain": [
       "                                                 boundaries per innings  \\\n",
       "boundaries per innings                                         1.000000   \n",
       "SR                                                             0.553392   \n",
       "Strike Rate without boundaries                                -0.278128   \n",
       "HS Numeric                                                     0.716443   \n",
       "Ave                                                            0.501622   \n",
       "Avg runs per year                                              0.411528   \n",
       "Total Years                                                   -0.107498   \n",
       "Arithmatic Average of Total Runs by Inns Played                0.776113   \n",
       "Boundary Ave per Inns                                          0.994599   \n",
       "100's per innings                                              0.841795   \n",
       "\n",
       "                                                       SR  \\\n",
       "boundaries per innings                           0.553392   \n",
       "SR                                               1.000000   \n",
       "Strike Rate without boundaries                   0.334199   \n",
       "HS Numeric                                       0.429097   \n",
       "Ave                                              0.211106   \n",
       "Avg runs per year                                0.196077   \n",
       "Total Years                                     -0.047076   \n",
       "Arithmatic Average of Total Runs by Inns Played  0.254800   \n",
       "Boundary Ave per Inns                            0.592982   \n",
       "100's per innings                                0.386554   \n",
       "\n",
       "                                                 Strike Rate without boundaries  \\\n",
       "boundaries per innings                                                -0.278128   \n",
       "SR                                                                     0.334199   \n",
       "Strike Rate without boundaries                                         1.000000   \n",
       "HS Numeric                                                            -0.248890   \n",
       "Ave                                                                    0.358197   \n",
       "Avg runs per year                                                      0.167594   \n",
       "Total Years                                                           -0.223011   \n",
       "Arithmatic Average of Total Runs by Inns Played                        0.073504   \n",
       "Boundary Ave per Inns                                                 -0.273588   \n",
       "100's per innings                                                     -0.073806   \n",
       "\n",
       "                                                 HS Numeric       Ave  \\\n",
       "boundaries per innings                             0.716443  0.501622   \n",
       "SR                                                 0.429097  0.211106   \n",
       "Strike Rate without boundaries                    -0.248890  0.358197   \n",
       "HS Numeric                                         1.000000  0.299092   \n",
       "Ave                                                0.299092  1.000000   \n",
       "Avg runs per year                                  0.322558  0.524462   \n",
       "Total Years                                        0.134927 -0.312378   \n",
       "Arithmatic Average of Total Runs by Inns Played    0.499314  0.874211   \n",
       "Boundary Ave per Inns                              0.726963  0.491487   \n",
       "100's per innings                                  0.612026  0.609582   \n",
       "\n",
       "                                                 Avg runs per year  \\\n",
       "boundaries per innings                                    0.411528   \n",
       "SR                                                        0.196077   \n",
       "Strike Rate without boundaries                            0.167594   \n",
       "HS Numeric                                                0.322558   \n",
       "Ave                                                       0.524462   \n",
       "Avg runs per year                                         1.000000   \n",
       "Total Years                                              -0.305745   \n",
       "Arithmatic Average of Total Runs by Inns Played           0.577539   \n",
       "Boundary Ave per Inns                                     0.385350   \n",
       "100's per innings                                         0.481754   \n",
       "\n",
       "                                                 Total Years  \\\n",
       "boundaries per innings                             -0.107498   \n",
       "SR                                                 -0.047076   \n",
       "Strike Rate without boundaries                     -0.223011   \n",
       "HS Numeric                                          0.134927   \n",
       "Ave                                                -0.312378   \n",
       "Avg runs per year                                  -0.305745   \n",
       "Total Years                                         1.000000   \n",
       "Arithmatic Average of Total Runs by Inns Played    -0.274517   \n",
       "Boundary Ave per Inns                              -0.093450   \n",
       "100's per innings                                  -0.150724   \n",
       "\n",
       "                                                 Arithmatic Average of Total Runs by Inns Played  \\\n",
       "boundaries per innings                                                                  0.776113   \n",
       "SR                                                                                      0.254800   \n",
       "Strike Rate without boundaries                                                          0.073504   \n",
       "HS Numeric                                                                              0.499314   \n",
       "Ave                                                                                     0.874211   \n",
       "Avg runs per year                                                                       0.577539   \n",
       "Total Years                                                                            -0.274517   \n",
       "Arithmatic Average of Total Runs by Inns Played                                         1.000000   \n",
       "Boundary Ave per Inns                                                                   0.751450   \n",
       "100's per innings                                                                       0.844468   \n",
       "\n",
       "                                                 Boundary Ave per Inns  \\\n",
       "boundaries per innings                                        0.994599   \n",
       "SR                                                            0.592982   \n",
       "Strike Rate without boundaries                               -0.273588   \n",
       "HS Numeric                                                    0.726963   \n",
       "Ave                                                           0.491487   \n",
       "Avg runs per year                                             0.385350   \n",
       "Total Years                                                  -0.093450   \n",
       "Arithmatic Average of Total Runs by Inns Played               0.751450   \n",
       "Boundary Ave per Inns                                         1.000000   \n",
       "100's per innings                                             0.825875   \n",
       "\n",
       "                                                 100's per innings  \n",
       "boundaries per innings                                    0.841795  \n",
       "SR                                                        0.386554  \n",
       "Strike Rate without boundaries                           -0.073806  \n",
       "HS Numeric                                                0.612026  \n",
       "Ave                                                       0.609582  \n",
       "Avg runs per year                                         0.481754  \n",
       "Total Years                                              -0.150724  \n",
       "Arithmatic Average of Total Runs by Inns Played           0.844468  \n",
       "Boundary Ave per Inns                                     0.825875  \n",
       "100's per innings                                         1.000000  "
      ]
     },
     "execution_count": 34,
     "metadata": {},
     "output_type": "execute_result"
    }
   ],
   "source": [
    "corr = df[['boundaries per innings', 'SR', 'Strike Rate without boundaries', 'HS Numeric', 'Ave', 'Avg runs per year', 'Total Years', 'Arithmatic Average of Total Runs by Inns Played', 'Boundary Ave per Inns', '100\\'s per innings']].corr()\n",
    "corr"
   ]
  },
  {
   "cell_type": "code",
   "execution_count": 42,
   "id": "170c5e30",
   "metadata": {},
   "outputs": [
    {
     "data": {
      "text/plain": [
       "[Text(0.5, 1.0, 'Correlation Matrix of Data')]"
      ]
     },
     "execution_count": 42,
     "metadata": {},
     "output_type": "execute_result"
    },
    {
     "data": {
      "image/png": "[encoded data removed]",
      "text/plain": [
       "<Figure size 432x288 with 2 Axes>"
      ]
     },
     "metadata": {
      "needs_background": "light"
     },
     "output_type": "display_data"
    }
   ],
   "source": [
    "import seaborn as sns\n",
    "hm = sns.heatmap(corr, cmap='YlGnBu')\n",
    "hm.set(title='Correlation Matrix of Data')"
   ]
  },
  {
   "cell_type": "code",
   "execution_count": null,
   "id": "277e9aab",
   "metadata": {},
   "outputs": [],
   "source": []
  }
 ],
 "metadata": {
  "kernelspec": {
   "display_name": "Python 3 (ipykernel)",
   "language": "python",
   "name": "python3"
  },
  "language_info": {
   "codemirror_mode": {
    "name": "ipython",
    "version": 3
   },
   "file_extension": ".py",
   "mimetype": "text/x-python",
   "name": "python",
   "nbconvert_exporter": "python",
   "pygments_lexer": "ipython3",
   "version": "3.9.7"
  }
 },
 "nbformat": 4,
 "nbformat_minor": 5
}
