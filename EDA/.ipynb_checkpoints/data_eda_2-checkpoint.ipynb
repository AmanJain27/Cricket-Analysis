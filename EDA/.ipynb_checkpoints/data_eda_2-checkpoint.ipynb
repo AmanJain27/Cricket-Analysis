{
 "cells": [
  {
   "cell_type": "code",
   "execution_count": 2,
   "id": "d4f4d435",
   "metadata": {},
   "outputs": [],
   "source": [
    "import pandas as pd\n",
    "import matplotlib.pyplot as plt"
   ]
  },
  {
   "cell_type": "code",
   "execution_count": 3,
   "id": "aecf45b1",
   "metadata": {},
   "outputs": [],
   "source": [
    "df = pd.read_csv(\"../Data Cleaning/scores_reference.csv\", index_col=0)"
   ]
  },
  {
   "cell_type": "code",
   "execution_count": 4,
   "id": "c783ff9f",
   "metadata": {},
   "outputs": [
    {
     "data": {
      "text/plain": [
       "Index(['Player', 'Span', 'Mat', 'Inns', 'NO', 'Runs', 'HS', 'Ave', 'BF', 'SR',\n",
       "       '100', '50', '0', '4s', '6s', 'Country', 'Debut Year', 'Last Year',\n",
       "       'Total Years', 'Innings per Matches', 'Not outs per innings',\n",
       "       'Arithmatic Average of Total Runs by Inns Played',\n",
       "       'Not Out when scored highest', 'HS Numeric', '100's per innings',\n",
       "       '50's per innings', '0's per innings', '4s numeric', '6s numeric',\n",
       "       'boundaries', '4s per Inns', '6s per Inns', 'Boundary Ave per Inns',\n",
       "       'boundaries per innings', 'runs scored by boundaries',\n",
       "       'boundaries to runs ratio', 'runs without boundaries',\n",
       "       'BF without boundaries', 'Strike Rate without boundaries',\n",
       "       'Avg runs per year'],\n",
       "      dtype='object')"
      ]
     },
     "execution_count": 4,
     "metadata": {},
     "output_type": "execute_result"
    }
   ],
   "source": [
    "\n",
    "df.columns"
   ]
  },
  {
   "cell_type": "code",
   "execution_count": 5,
   "id": "cedfaddd",
   "metadata": {},
   "outputs": [
    {
     "data": {
      "text/html": [
       "<div>\n",
       "<style scoped>\n",
       "    .dataframe tbody tr th:only-of-type {\n",
       "        vertical-align: middle;\n",
       "    }\n",
       "\n",
       "    .dataframe tbody tr th {\n",
       "        vertical-align: top;\n",
       "    }\n",
       "\n",
       "    .dataframe thead th {\n",
       "        text-align: right;\n",
       "    }\n",
       "</style>\n",
       "<table border=\"1\" class=\"dataframe\">\n",
       "  <thead>\n",
       "    <tr style=\"text-align: right;\">\n",
       "      <th></th>\n",
       "      <th>Mat</th>\n",
       "      <th>Inns</th>\n",
       "      <th>NO</th>\n",
       "      <th>Runs</th>\n",
       "      <th>Ave</th>\n",
       "      <th>BF</th>\n",
       "      <th>SR</th>\n",
       "      <th>100</th>\n",
       "      <th>50</th>\n",
       "      <th>0</th>\n",
       "      <th>...</th>\n",
       "      <th>4s per Inns</th>\n",
       "      <th>6s per Inns</th>\n",
       "      <th>Boundary Ave per Inns</th>\n",
       "      <th>boundaries per innings</th>\n",
       "      <th>runs scored by boundaries</th>\n",
       "      <th>boundaries to runs ratio</th>\n",
       "      <th>runs without boundaries</th>\n",
       "      <th>BF without boundaries</th>\n",
       "      <th>Strike Rate without boundaries</th>\n",
       "      <th>Avg runs per year</th>\n",
       "    </tr>\n",
       "  </thead>\n",
       "  <tbody>\n",
       "    <tr>\n",
       "      <th>count</th>\n",
       "      <td>774.000000</td>\n",
       "      <td>774.000000</td>\n",
       "      <td>774.000000</td>\n",
       "      <td>774.000000</td>\n",
       "      <td>772.000000</td>\n",
       "      <td>774.000000</td>\n",
       "      <td>774.000000</td>\n",
       "      <td>774.000000</td>\n",
       "      <td>774.000000</td>\n",
       "      <td>774.000000</td>\n",
       "      <td>...</td>\n",
       "      <td>774.000000</td>\n",
       "      <td>774.000000</td>\n",
       "      <td>774.000000</td>\n",
       "      <td>774.000000</td>\n",
       "      <td>774.000000</td>\n",
       "      <td>774.000000</td>\n",
       "      <td>774.000000</td>\n",
       "      <td>774.000000</td>\n",
       "      <td>774.000000</td>\n",
       "      <td>774.000000</td>\n",
       "    </tr>\n",
       "    <tr>\n",
       "      <th>mean</th>\n",
       "      <td>91.981912</td>\n",
       "      <td>73.726098</td>\n",
       "      <td>13.489664</td>\n",
       "      <td>1804.153747</td>\n",
       "      <td>22.285052</td>\n",
       "      <td>2366.987080</td>\n",
       "      <td>70.836279</td>\n",
       "      <td>2.122739</td>\n",
       "      <td>9.812661</td>\n",
       "      <td>5.733850</td>\n",
       "      <td>...</td>\n",
       "      <td>1.515238</td>\n",
       "      <td>0.226831</td>\n",
       "      <td>7.421938</td>\n",
       "      <td>1.742069</td>\n",
       "      <td>764.808786</td>\n",
       "      <td>0.384743</td>\n",
       "      <td>1039.344961</td>\n",
       "      <td>2187.528424</td>\n",
       "      <td>45.380468</td>\n",
       "      <td>161.852255</td>\n",
       "    </tr>\n",
       "    <tr>\n",
       "      <th>std</th>\n",
       "      <td>79.421288</td>\n",
       "      <td>72.854743</td>\n",
       "      <td>13.098167</td>\n",
       "      <td>2527.309398</td>\n",
       "      <td>11.721465</td>\n",
       "      <td>3189.743514</td>\n",
       "      <td>16.476316</td>\n",
       "      <td>5.001596</td>\n",
       "      <td>15.772224</td>\n",
       "      <td>5.185707</td>\n",
       "      <td>...</td>\n",
       "      <td>1.130700</td>\n",
       "      <td>0.230931</td>\n",
       "      <td>5.392528</td>\n",
       "      <td>1.269305</td>\n",
       "      <td>1146.364306</td>\n",
       "      <td>0.126483</td>\n",
       "      <td>1431.681647</td>\n",
       "      <td>2935.904011</td>\n",
       "      <td>9.502082</td>\n",
       "      <td>189.509430</td>\n",
       "    </tr>\n",
       "    <tr>\n",
       "      <th>min</th>\n",
       "      <td>2.000000</td>\n",
       "      <td>2.000000</td>\n",
       "      <td>0.000000</td>\n",
       "      <td>4.000000</td>\n",
       "      <td>1.200000</td>\n",
       "      <td>3.000000</td>\n",
       "      <td>15.500000</td>\n",
       "      <td>0.000000</td>\n",
       "      <td>0.000000</td>\n",
       "      <td>0.000000</td>\n",
       "      <td>...</td>\n",
       "      <td>0.000000</td>\n",
       "      <td>0.000000</td>\n",
       "      <td>0.000000</td>\n",
       "      <td>0.000000</td>\n",
       "      <td>0.000000</td>\n",
       "      <td>0.000000</td>\n",
       "      <td>4.000000</td>\n",
       "      <td>3.000000</td>\n",
       "      <td>11.267606</td>\n",
       "      <td>0.666667</td>\n",
       "    </tr>\n",
       "    <tr>\n",
       "      <th>25%</th>\n",
       "      <td>34.000000</td>\n",
       "      <td>22.000000</td>\n",
       "      <td>4.000000</td>\n",
       "      <td>199.000000</td>\n",
       "      <td>12.472500</td>\n",
       "      <td>307.750000</td>\n",
       "      <td>60.937500</td>\n",
       "      <td>0.000000</td>\n",
       "      <td>0.000000</td>\n",
       "      <td>2.000000</td>\n",
       "      <td>...</td>\n",
       "      <td>0.557292</td>\n",
       "      <td>0.057929</td>\n",
       "      <td>2.763736</td>\n",
       "      <td>0.650543</td>\n",
       "      <td>70.000000</td>\n",
       "      <td>0.316766</td>\n",
       "      <td>122.500000</td>\n",
       "      <td>284.000000</td>\n",
       "      <td>40.482889</td>\n",
       "      <td>22.687500</td>\n",
       "    </tr>\n",
       "    <tr>\n",
       "      <th>50%</th>\n",
       "      <td>68.000000</td>\n",
       "      <td>48.000000</td>\n",
       "      <td>10.000000</td>\n",
       "      <td>718.500000</td>\n",
       "      <td>21.125000</td>\n",
       "      <td>980.500000</td>\n",
       "      <td>71.175000</td>\n",
       "      <td>0.000000</td>\n",
       "      <td>2.000000</td>\n",
       "      <td>4.000000</td>\n",
       "      <td>...</td>\n",
       "      <td>1.252551</td>\n",
       "      <td>0.156863</td>\n",
       "      <td>6.502174</td>\n",
       "      <td>1.500000</td>\n",
       "      <td>283.000000</td>\n",
       "      <td>0.391680</td>\n",
       "      <td>417.500000</td>\n",
       "      <td>904.000000</td>\n",
       "      <td>45.798339</td>\n",
       "      <td>77.894444</td>\n",
       "    </tr>\n",
       "    <tr>\n",
       "      <th>75%</th>\n",
       "      <td>124.750000</td>\n",
       "      <td>101.750000</td>\n",
       "      <td>18.750000</td>\n",
       "      <td>2335.000000</td>\n",
       "      <td>30.745000</td>\n",
       "      <td>3238.250000</td>\n",
       "      <td>81.100000</td>\n",
       "      <td>2.000000</td>\n",
       "      <td>13.000000</td>\n",
       "      <td>8.000000</td>\n",
       "      <td>...</td>\n",
       "      <td>2.295764</td>\n",
       "      <td>0.333333</td>\n",
       "      <td>11.060000</td>\n",
       "      <td>2.598551</td>\n",
       "      <td>968.000000</td>\n",
       "      <td>0.465915</td>\n",
       "      <td>1378.000000</td>\n",
       "      <td>2921.750000</td>\n",
       "      <td>51.078669</td>\n",
       "      <td>234.208333</td>\n",
       "    </tr>\n",
       "    <tr>\n",
       "      <th>max</th>\n",
       "      <td>463.000000</td>\n",
       "      <td>452.000000</td>\n",
       "      <td>83.000000</td>\n",
       "      <td>18426.000000</td>\n",
       "      <td>59.070000</td>\n",
       "      <td>21368.000000</td>\n",
       "      <td>133.330000</td>\n",
       "      <td>49.000000</td>\n",
       "      <td>96.000000</td>\n",
       "      <td>34.000000</td>\n",
       "      <td>...</td>\n",
       "      <td>5.373239</td>\n",
       "      <td>1.212766</td>\n",
       "      <td>25.901235</td>\n",
       "      <td>5.925926</td>\n",
       "      <td>9234.000000</td>\n",
       "      <td>0.818182</td>\n",
       "      <td>9192.000000</td>\n",
       "      <td>19157.000000</td>\n",
       "      <td>133.333333</td>\n",
       "      <td>936.076923</td>\n",
       "    </tr>\n",
       "  </tbody>\n",
       "</table>\n",
       "<p>8 rows × 34 columns</p>\n",
       "</div>"
      ],
      "text/plain": [
       "              Mat        Inns          NO          Runs         Ave  \\\n",
       "count  774.000000  774.000000  774.000000    774.000000  772.000000   \n",
       "mean    91.981912   73.726098   13.489664   1804.153747   22.285052   \n",
       "std     79.421288   72.854743   13.098167   2527.309398   11.721465   \n",
       "min      2.000000    2.000000    0.000000      4.000000    1.200000   \n",
       "25%     34.000000   22.000000    4.000000    199.000000   12.472500   \n",
       "50%     68.000000   48.000000   10.000000    718.500000   21.125000   \n",
       "75%    124.750000  101.750000   18.750000   2335.000000   30.745000   \n",
       "max    463.000000  452.000000   83.000000  18426.000000   59.070000   \n",
       "\n",
       "                 BF          SR         100          50           0  ...  \\\n",
       "count    774.000000  774.000000  774.000000  774.000000  774.000000  ...   \n",
       "mean    2366.987080   70.836279    2.122739    9.812661    5.733850  ...   \n",
       "std     3189.743514   16.476316    5.001596   15.772224    5.185707  ...   \n",
       "min        3.000000   15.500000    0.000000    0.000000    0.000000  ...   \n",
       "25%      307.750000   60.937500    0.000000    0.000000    2.000000  ...   \n",
       "50%      980.500000   71.175000    0.000000    2.000000    4.000000  ...   \n",
       "75%     3238.250000   81.100000    2.000000   13.000000    8.000000  ...   \n",
       "max    21368.000000  133.330000   49.000000   96.000000   34.000000  ...   \n",
       "\n",
       "       4s per Inns  6s per Inns  Boundary Ave per Inns  \\\n",
       "count   774.000000   774.000000             774.000000   \n",
       "mean      1.515238     0.226831               7.421938   \n",
       "std       1.130700     0.230931               5.392528   \n",
       "min       0.000000     0.000000               0.000000   \n",
       "25%       0.557292     0.057929               2.763736   \n",
       "50%       1.252551     0.156863               6.502174   \n",
       "75%       2.295764     0.333333              11.060000   \n",
       "max       5.373239     1.212766              25.901235   \n",
       "\n",
       "       boundaries per innings  runs scored by boundaries  \\\n",
       "count              774.000000                 774.000000   \n",
       "mean                 1.742069                 764.808786   \n",
       "std                  1.269305                1146.364306   \n",
       "min                  0.000000                   0.000000   \n",
       "25%                  0.650543                  70.000000   \n",
       "50%                  1.500000                 283.000000   \n",
       "75%                  2.598551                 968.000000   \n",
       "max                  5.925926                9234.000000   \n",
       "\n",
       "       boundaries to runs ratio  runs without boundaries  \\\n",
       "count                774.000000               774.000000   \n",
       "mean                   0.384743              1039.344961   \n",
       "std                    0.126483              1431.681647   \n",
       "min                    0.000000                 4.000000   \n",
       "25%                    0.316766               122.500000   \n",
       "50%                    0.391680               417.500000   \n",
       "75%                    0.465915              1378.000000   \n",
       "max                    0.818182              9192.000000   \n",
       "\n",
       "       BF without boundaries  Strike Rate without boundaries  \\\n",
       "count             774.000000                      774.000000   \n",
       "mean             2187.528424                       45.380468   \n",
       "std              2935.904011                        9.502082   \n",
       "min                 3.000000                       11.267606   \n",
       "25%               284.000000                       40.482889   \n",
       "50%               904.000000                       45.798339   \n",
       "75%              2921.750000                       51.078669   \n",
       "max             19157.000000                      133.333333   \n",
       "\n",
       "       Avg runs per year  \n",
       "count         774.000000  \n",
       "mean          161.852255  \n",
       "std           189.509430  \n",
       "min             0.666667  \n",
       "25%            22.687500  \n",
       "50%            77.894444  \n",
       "75%           234.208333  \n",
       "max           936.076923  \n",
       "\n",
       "[8 rows x 34 columns]"
      ]
     },
     "execution_count": 5,
     "metadata": {},
     "output_type": "execute_result"
    }
   ],
   "source": [
    "\n",
    "df.describe()"
   ]
  },
  {
   "cell_type": "code",
   "execution_count": 6,
   "id": "24fc36e5",
   "metadata": {},
   "outputs": [
    {
     "data": {
      "text/plain": [
       "ENGLAND         93\n",
       "PAKISTAN        87\n",
       "AUSTRALIA       86\n",
       "NEW ZEALAND     83\n",
       "WEST INDIES     83\n",
       "SRI LANKA       75\n",
       "INDIA           72\n",
       "ZIMBABWE        60\n",
       "SOUTH AFRICA    52\n",
       "BANGLADESH      46\n",
       "AFGHANISTAN     20\n",
       "IRELAND         17\n",
       "Name: Country, dtype: int64"
      ]
     },
     "execution_count": 6,
     "metadata": {},
     "output_type": "execute_result"
    }
   ],
   "source": [
    "df['Country'].value_counts()"
   ]
  },
  {
   "cell_type": "code",
   "execution_count": 7,
   "id": "b863593c",
   "metadata": {},
   "outputs": [
    {
     "data": {
      "text/plain": [
       "Text(0.5, 1.0, 'Country wise distribution')"
      ]
     },
     "execution_count": 7,
     "metadata": {},
     "output_type": "execute_result"
    },
    {
     "data": {
      "image/png": "[encoded data removed]",
      "text/plain": [
       "<Figure size 1008x576 with 1 Axes>"
      ]
     },
     "metadata": {
      "needs_background": "light"
     },
     "output_type": "display_data"
    }
   ],
   "source": [
    "df.Country.hist(grid=False, figsize=(14, 8), bins=10, color='purple', edgecolor='black')\n",
    "plt.ylabel(\"# of Players\")\n",
    "plt.xlabel(\"Countries\")\n",
    "plt.title(\"Country wise distribution\")"
   ]
  },
  {
   "cell_type": "code",
   "execution_count": 8,
   "id": "3c923b7f",
   "metadata": {},
   "outputs": [
    {
     "data": {
      "text/plain": [
       "Text(0.5, 1.0, 'Batting Average Distribution')"
      ]
     },
     "execution_count": 8,
     "metadata": {},
     "output_type": "execute_result"
    },
    {
     "data": {
      "image/png": "[encoded data removed]",
      "text/plain": [
       "<Figure size 1008x576 with 1 Axes>"
      ]
     },
     "metadata": {
      "needs_background": "light"
     },
     "output_type": "display_data"
    }
   ],
   "source": [
    "df.Ave.hist(grid=False, figsize=(14, 8), bins=10, color='purple', edgecolor='black', align='right')\n",
    "plt.ylabel(\"# of Players\")\n",
    "plt.xlabel(\"Batting Average\")\n",
    "plt.title(\"Batting Average Distribution\")\n"
   ]
  },
  {
   "cell_type": "code",
   "execution_count": 9,
   "id": "f67d47b3",
   "metadata": {},
   "outputs": [
    {
     "data": {
      "text/plain": [
       "Text(0.5, 1.0, 'Batting Average Distribution by Inns played')"
      ]
     },
     "execution_count": 9,
     "metadata": {},
     "output_type": "execute_result"
    },
    {
     "data": {
      "image/png": "[encoded data removed]",
      "text/plain": [
       "<Figure size 1008x576 with 1 Axes>"
      ]
     },
     "metadata": {
      "needs_background": "light"
     },
     "output_type": "display_data"
    }
   ],
   "source": [
    "df['Arithmatic Average of Total Runs by Inns Played'].hist(grid=False, color='purple', figsize=(14, 8), edgecolor='black')\n",
    "plt.xlabel('Average By Inngs')\n",
    "plt.ylabel('# of Players')\n",
    "plt.title(\"Batting Average Distribution by Inns played\")\n"
   ]
  },
  {
   "cell_type": "code",
   "execution_count": 10,
   "id": "e4b531e4",
   "metadata": {},
   "outputs": [
    {
     "data": {
      "text/plain": [
       "Text(0.5, 1.0, 'Strike Rate Distribution')"
      ]
     },
     "execution_count": 10,
     "metadata": {},
     "output_type": "execute_result"
    },
    {
     "data": {
      "image/png": "[encoded data removed]",
      "text/plain": [
       "<Figure size 1008x576 with 1 Axes>"
      ]
     },
     "metadata": {
      "needs_background": "light"
     },
     "output_type": "display_data"
    }
   ],
   "source": [
    "df.SR.hist(grid=False, figsize=(14, 8), bins=10, color='purple', align='right')\n",
    "plt.ylabel(\"# of Players\")\n",
    "plt.xlabel(\"Strike Rate\")\n",
    "plt.title(\"Strike Rate Distribution\")\n",
    "# plt.yticks(range(0,30,5))"
   ]
  },
  {
   "cell_type": "code",
   "execution_count": 11,
   "id": "c88d1902",
   "metadata": {},
   "outputs": [
    {
     "data": {
      "text/plain": [
       "([<matplotlib.axis.XTick at 0x7f5bf49bdac0>,\n",
       "  <matplotlib.axis.XTick at 0x7f5bf49bda90>],\n",
       " [Text(0, 0, ''), Text(0, 0, '')])"
      ]
     },
     "execution_count": 11,
     "metadata": {},
     "output_type": "execute_result"
    },
    {
     "data": {
      "image/png": "[encoded data removed]",
      "text/plain": [
       "<Figure size 432x288 with 1 Axes>"
      ]
     },
     "metadata": {
      "needs_background": "light"
     },
     "output_type": "display_data"
    }
   ],
   "source": [
    "df['Not Out when scored highest'].hist(grid=False, color='purple', edgecolor='black')\n",
    "plt.xlabel(\"0 for Out and 1 for Not Out\")\n",
    "plt.ylabel(\"# No of Players\")\n",
    "\n",
    "plt.xticks([0,1])"
   ]
  },
  {
   "cell_type": "code",
   "execution_count": 12,
   "id": "f6d91e83",
   "metadata": {},
   "outputs": [
    {
     "data": {
      "text/plain": [
       "array([[<AxesSubplot:title={'center':'100'}>,\n",
       "        <AxesSubplot:title={'center':'50'}>]], dtype=object)"
      ]
     },
     "execution_count": 12,
     "metadata": {},
     "output_type": "execute_result"
    },
    {
     "data": {
      "image/png": "[encoded data removed]",
      "text/plain": [
       "<Figure size 1008x576 with 2 Axes>"
      ]
     },
     "metadata": {
      "needs_background": "light"
     },
     "output_type": "display_data"
    }
   ],
   "source": [
    "df.hist(column=['100','50'], grid=False, figsize=(14, 8), bins=10, color='purple')"
   ]
  },
  {
   "cell_type": "code",
   "execution_count": 13,
   "id": "abe96f6d",
   "metadata": {},
   "outputs": [
    {
     "data": {
      "text/plain": [
       "Text(0.5, 1.0, 'Total Years Played Distribution')"
      ]
     },
     "execution_count": 13,
     "metadata": {},
     "output_type": "execute_result"
    },
    {
     "data": {
      "image/png": "[encoded data removed]",
      "text/plain": [
       "<Figure size 1008x576 with 1 Axes>"
      ]
     },
     "metadata": {
      "needs_background": "light"
     },
     "output_type": "display_data"
    }
   ],
   "source": [
    "df['Total Years'].hist(grid=False, color='purple', figsize=(14, 8))\n",
    "plt.xlabel('Total Years')\n",
    "plt.ylabel('# of players')\n",
    "# plt.yticks(range(0, 25, 5))\n",
    "plt.xticks(range(5,30,5))\n",
    "plt.title('Total Years Played Distribution')"
   ]
  },
  {
   "cell_type": "code",
   "execution_count": 14,
   "id": "b65f25ae",
   "metadata": {},
   "outputs": [
    {
     "data": {
      "text/plain": [
       "Index(['Player', 'Span', 'Mat', 'Inns', 'NO', 'Runs', 'HS', 'Ave', 'BF', 'SR',\n",
       "       '100', '50', '0', '4s', '6s', 'Country', 'Debut Year', 'Last Year',\n",
       "       'Total Years', 'Innings per Matches', 'Not outs per innings',\n",
       "       'Arithmatic Average of Total Runs by Inns Played',\n",
       "       'Not Out when scored highest', 'HS Numeric', '100's per innings',\n",
       "       '50's per innings', '0's per innings', '4s numeric', '6s numeric',\n",
       "       'boundaries', '4s per Inns', '6s per Inns', 'Boundary Ave per Inns',\n",
       "       'boundaries per innings', 'runs scored by boundaries',\n",
       "       'boundaries to runs ratio', 'runs without boundaries',\n",
       "       'BF without boundaries', 'Strike Rate without boundaries',\n",
       "       'Avg runs per year'],\n",
       "      dtype='object')"
      ]
     },
     "execution_count": 14,
     "metadata": {},
     "output_type": "execute_result"
    }
   ],
   "source": [
    "df.columns"
   ]
  },
  {
   "cell_type": "code",
   "execution_count": 15,
   "id": "1ff67c7d",
   "metadata": {
    "scrolled": false
   },
   "outputs": [
    {
     "data": {
      "text/html": [
       "<div>\n",
       "<style scoped>\n",
       "    .dataframe tbody tr th:only-of-type {\n",
       "        vertical-align: middle;\n",
       "    }\n",
       "\n",
       "    .dataframe tbody tr th {\n",
       "        vertical-align: top;\n",
       "    }\n",
       "\n",
       "    .dataframe thead th {\n",
       "        text-align: right;\n",
       "    }\n",
       "</style>\n",
       "<table border=\"1\" class=\"dataframe\">\n",
       "  <thead>\n",
       "    <tr style=\"text-align: right;\">\n",
       "      <th></th>\n",
       "      <th>boundaries per innings</th>\n",
       "      <th>SR</th>\n",
       "      <th>Strike Rate without boundaries</th>\n",
       "      <th>HS Numeric</th>\n",
       "      <th>Ave</th>\n",
       "      <th>Avg runs per year</th>\n",
       "      <th>Total Years</th>\n",
       "      <th>Arithmatic Average of Total Runs by Inns Played</th>\n",
       "      <th>Boundary Ave per Inns</th>\n",
       "      <th>100's per innings</th>\n",
       "    </tr>\n",
       "  </thead>\n",
       "  <tbody>\n",
       "    <tr>\n",
       "      <th>boundaries per innings</th>\n",
       "      <td>1.000000</td>\n",
       "      <td>0.499826</td>\n",
       "      <td>0.149174</td>\n",
       "      <td>0.887456</td>\n",
       "      <td>0.888018</td>\n",
       "      <td>0.775143</td>\n",
       "      <td>0.258790</td>\n",
       "      <td>0.945556</td>\n",
       "      <td>0.997920</td>\n",
       "      <td>0.784339</td>\n",
       "    </tr>\n",
       "    <tr>\n",
       "      <th>SR</th>\n",
       "      <td>0.499826</td>\n",
       "      <td>1.000000</td>\n",
       "      <td>0.689917</td>\n",
       "      <td>0.443343</td>\n",
       "      <td>0.453340</td>\n",
       "      <td>0.357963</td>\n",
       "      <td>0.147989</td>\n",
       "      <td>0.405580</td>\n",
       "      <td>0.527758</td>\n",
       "      <td>0.298943</td>\n",
       "    </tr>\n",
       "    <tr>\n",
       "      <th>Strike Rate without boundaries</th>\n",
       "      <td>0.149174</td>\n",
       "      <td>0.689917</td>\n",
       "      <td>1.000000</td>\n",
       "      <td>0.225954</td>\n",
       "      <td>0.356427</td>\n",
       "      <td>0.231722</td>\n",
       "      <td>0.095063</td>\n",
       "      <td>0.235750</td>\n",
       "      <td>0.157831</td>\n",
       "      <td>0.119636</td>\n",
       "    </tr>\n",
       "    <tr>\n",
       "      <th>HS Numeric</th>\n",
       "      <td>0.887456</td>\n",
       "      <td>0.443343</td>\n",
       "      <td>0.225954</td>\n",
       "      <td>1.000000</td>\n",
       "      <td>0.864267</td>\n",
       "      <td>0.814180</td>\n",
       "      <td>0.390420</td>\n",
       "      <td>0.904266</td>\n",
       "      <td>0.885324</td>\n",
       "      <td>0.738326</td>\n",
       "    </tr>\n",
       "    <tr>\n",
       "      <th>Ave</th>\n",
       "      <td>0.888018</td>\n",
       "      <td>0.453340</td>\n",
       "      <td>0.356427</td>\n",
       "      <td>0.864267</td>\n",
       "      <td>1.000000</td>\n",
       "      <td>0.799074</td>\n",
       "      <td>0.274040</td>\n",
       "      <td>0.961106</td>\n",
       "      <td>0.881646</td>\n",
       "      <td>0.714720</td>\n",
       "    </tr>\n",
       "    <tr>\n",
       "      <th>Avg runs per year</th>\n",
       "      <td>0.775143</td>\n",
       "      <td>0.357963</td>\n",
       "      <td>0.231722</td>\n",
       "      <td>0.814180</td>\n",
       "      <td>0.799074</td>\n",
       "      <td>1.000000</td>\n",
       "      <td>0.378487</td>\n",
       "      <td>0.808039</td>\n",
       "      <td>0.771440</td>\n",
       "      <td>0.712265</td>\n",
       "    </tr>\n",
       "    <tr>\n",
       "      <th>Total Years</th>\n",
       "      <td>0.258790</td>\n",
       "      <td>0.147989</td>\n",
       "      <td>0.095063</td>\n",
       "      <td>0.390420</td>\n",
       "      <td>0.274040</td>\n",
       "      <td>0.378487</td>\n",
       "      <td>1.000000</td>\n",
       "      <td>0.280922</td>\n",
       "      <td>0.261989</td>\n",
       "      <td>0.207294</td>\n",
       "    </tr>\n",
       "    <tr>\n",
       "      <th>Arithmatic Average of Total Runs by Inns Played</th>\n",
       "      <td>0.945556</td>\n",
       "      <td>0.405580</td>\n",
       "      <td>0.235750</td>\n",
       "      <td>0.904266</td>\n",
       "      <td>0.961106</td>\n",
       "      <td>0.808039</td>\n",
       "      <td>0.280922</td>\n",
       "      <td>1.000000</td>\n",
       "      <td>0.936792</td>\n",
       "      <td>0.749781</td>\n",
       "    </tr>\n",
       "    <tr>\n",
       "      <th>Boundary Ave per Inns</th>\n",
       "      <td>0.997920</td>\n",
       "      <td>0.527758</td>\n",
       "      <td>0.157831</td>\n",
       "      <td>0.885324</td>\n",
       "      <td>0.881646</td>\n",
       "      <td>0.771440</td>\n",
       "      <td>0.261989</td>\n",
       "      <td>0.936792</td>\n",
       "      <td>1.000000</td>\n",
       "      <td>0.777820</td>\n",
       "    </tr>\n",
       "    <tr>\n",
       "      <th>100's per innings</th>\n",
       "      <td>0.784339</td>\n",
       "      <td>0.298943</td>\n",
       "      <td>0.119636</td>\n",
       "      <td>0.738326</td>\n",
       "      <td>0.714720</td>\n",
       "      <td>0.712265</td>\n",
       "      <td>0.207294</td>\n",
       "      <td>0.749781</td>\n",
       "      <td>0.777820</td>\n",
       "      <td>1.000000</td>\n",
       "    </tr>\n",
       "  </tbody>\n",
       "</table>\n",
       "</div>"
      ],
      "text/plain": [
       "                                                 boundaries per innings  \\\n",
       "boundaries per innings                                         1.000000   \n",
       "SR                                                             0.499826   \n",
       "Strike Rate without boundaries                                 0.149174   \n",
       "HS Numeric                                                     0.887456   \n",
       "Ave                                                            0.888018   \n",
       "Avg runs per year                                              0.775143   \n",
       "Total Years                                                    0.258790   \n",
       "Arithmatic Average of Total Runs by Inns Played                0.945556   \n",
       "Boundary Ave per Inns                                          0.997920   \n",
       "100's per innings                                              0.784339   \n",
       "\n",
       "                                                       SR  \\\n",
       "boundaries per innings                           0.499826   \n",
       "SR                                               1.000000   \n",
       "Strike Rate without boundaries                   0.689917   \n",
       "HS Numeric                                       0.443343   \n",
       "Ave                                              0.453340   \n",
       "Avg runs per year                                0.357963   \n",
       "Total Years                                      0.147989   \n",
       "Arithmatic Average of Total Runs by Inns Played  0.405580   \n",
       "Boundary Ave per Inns                            0.527758   \n",
       "100's per innings                                0.298943   \n",
       "\n",
       "                                                 Strike Rate without boundaries  \\\n",
       "boundaries per innings                                                 0.149174   \n",
       "SR                                                                     0.689917   \n",
       "Strike Rate without boundaries                                         1.000000   \n",
       "HS Numeric                                                             0.225954   \n",
       "Ave                                                                    0.356427   \n",
       "Avg runs per year                                                      0.231722   \n",
       "Total Years                                                            0.095063   \n",
       "Arithmatic Average of Total Runs by Inns Played                        0.235750   \n",
       "Boundary Ave per Inns                                                  0.157831   \n",
       "100's per innings                                                      0.119636   \n",
       "\n",
       "                                                 HS Numeric       Ave  \\\n",
       "boundaries per innings                             0.887456  0.888018   \n",
       "SR                                                 0.443343  0.453340   \n",
       "Strike Rate without boundaries                     0.225954  0.356427   \n",
       "HS Numeric                                         1.000000  0.864267   \n",
       "Ave                                                0.864267  1.000000   \n",
       "Avg runs per year                                  0.814180  0.799074   \n",
       "Total Years                                        0.390420  0.274040   \n",
       "Arithmatic Average of Total Runs by Inns Played    0.904266  0.961106   \n",
       "Boundary Ave per Inns                              0.885324  0.881646   \n",
       "100's per innings                                  0.738326  0.714720   \n",
       "\n",
       "                                                 Avg runs per year  \\\n",
       "boundaries per innings                                    0.775143   \n",
       "SR                                                        0.357963   \n",
       "Strike Rate without boundaries                            0.231722   \n",
       "HS Numeric                                                0.814180   \n",
       "Ave                                                       0.799074   \n",
       "Avg runs per year                                         1.000000   \n",
       "Total Years                                               0.378487   \n",
       "Arithmatic Average of Total Runs by Inns Played           0.808039   \n",
       "Boundary Ave per Inns                                     0.771440   \n",
       "100's per innings                                         0.712265   \n",
       "\n",
       "                                                 Total Years  \\\n",
       "boundaries per innings                              0.258790   \n",
       "SR                                                  0.147989   \n",
       "Strike Rate without boundaries                      0.095063   \n",
       "HS Numeric                                          0.390420   \n",
       "Ave                                                 0.274040   \n",
       "Avg runs per year                                   0.378487   \n",
       "Total Years                                         1.000000   \n",
       "Arithmatic Average of Total Runs by Inns Played     0.280922   \n",
       "Boundary Ave per Inns                               0.261989   \n",
       "100's per innings                                   0.207294   \n",
       "\n",
       "                                                 Arithmatic Average of Total Runs by Inns Played  \\\n",
       "boundaries per innings                                                                  0.945556   \n",
       "SR                                                                                      0.405580   \n",
       "Strike Rate without boundaries                                                          0.235750   \n",
       "HS Numeric                                                                              0.904266   \n",
       "Ave                                                                                     0.961106   \n",
       "Avg runs per year                                                                       0.808039   \n",
       "Total Years                                                                             0.280922   \n",
       "Arithmatic Average of Total Runs by Inns Played                                         1.000000   \n",
       "Boundary Ave per Inns                                                                   0.936792   \n",
       "100's per innings                                                                       0.749781   \n",
       "\n",
       "                                                 Boundary Ave per Inns  \\\n",
       "boundaries per innings                                        0.997920   \n",
       "SR                                                            0.527758   \n",
       "Strike Rate without boundaries                                0.157831   \n",
       "HS Numeric                                                    0.885324   \n",
       "Ave                                                           0.881646   \n",
       "Avg runs per year                                             0.771440   \n",
       "Total Years                                                   0.261989   \n",
       "Arithmatic Average of Total Runs by Inns Played               0.936792   \n",
       "Boundary Ave per Inns                                         1.000000   \n",
       "100's per innings                                             0.777820   \n",
       "\n",
       "                                                 100's per innings  \n",
       "boundaries per innings                                    0.784339  \n",
       "SR                                                        0.298943  \n",
       "Strike Rate without boundaries                            0.119636  \n",
       "HS Numeric                                                0.738326  \n",
       "Ave                                                       0.714720  \n",
       "Avg runs per year                                         0.712265  \n",
       "Total Years                                               0.207294  \n",
       "Arithmatic Average of Total Runs by Inns Played           0.749781  \n",
       "Boundary Ave per Inns                                     0.777820  \n",
       "100's per innings                                         1.000000  "
      ]
     },
     "execution_count": 15,
     "metadata": {},
     "output_type": "execute_result"
    }
   ],
   "source": [
    "corr = df[['boundaries per innings', 'SR', 'Strike Rate without boundaries', 'HS Numeric', 'Ave', 'Avg runs per year', 'Total Years', 'Arithmatic Average of Total Runs by Inns Played', 'Boundary Ave per Inns', '100\\'s per innings']].corr()\n",
    "corr"
   ]
  },
  {
   "cell_type": "code",
   "execution_count": 16,
   "id": "170c5e30",
   "metadata": {},
   "outputs": [
    {
     "data": {
      "text/plain": [
       "[Text(0.5, 1.0, 'Correlation Matrix of Data')]"
      ]
     },
     "execution_count": 16,
     "metadata": {},
     "output_type": "execute_result"
    },
    {
     "data": {
      "image/png": "[encoded data removed]",
      "text/plain": [
       "<Figure size 432x288 with 2 Axes>"
      ]
     },
     "metadata": {
      "needs_background": "light"
     },
     "output_type": "display_data"
    }
   ],
   "source": [
    "import seaborn as sns\n",
    "cmap=sns.diverging_palette(210, 15, 80, as_cmap=True)\n",
    "hm = sns.heatmap(corr, cmap=cmap, linewidths=.0)\n",
    "hm.set(title='Correlation Matrix of Data')"
   ]
  },
  {
   "cell_type": "code",
   "execution_count": 17,
   "id": "277e9aab",
   "metadata": {
    "scrolled": true
   },
   "outputs": [
    {
     "data": {
      "image/png": "[encoded data removed]",
      "text/plain": [
       "<Figure size 432x288 with 1 Axes>"
      ]
     },
     "metadata": {
      "needs_background": "light"
     },
     "output_type": "display_data"
    }
   ],
   "source": [
    "chart = sns.barplot(x=df['Country'].value_counts().index, y=df['Country'].value_counts())\n",
    "chart.set_xticklabels(chart.get_xticklabels(), rotation=90)\n",
    "plt.show()"
   ]
  },
  {
   "cell_type": "code",
   "execution_count": 18,
   "id": "70ca2eb7",
   "metadata": {
    "scrolled": false
   },
   "outputs": [
    {
     "data": {
      "text/html": [
       "<div>\n",
       "<style scoped>\n",
       "    .dataframe tbody tr th:only-of-type {\n",
       "        vertical-align: middle;\n",
       "    }\n",
       "\n",
       "    .dataframe tbody tr th {\n",
       "        vertical-align: top;\n",
       "    }\n",
       "\n",
       "    .dataframe thead th {\n",
       "        text-align: right;\n",
       "    }\n",
       "</style>\n",
       "<table border=\"1\" class=\"dataframe\">\n",
       "  <thead>\n",
       "    <tr style=\"text-align: right;\">\n",
       "      <th></th>\n",
       "      <th>Arithmatic Average of Total Runs by Inns Played</th>\n",
       "      <th>Ave</th>\n",
       "      <th>Avg runs per year</th>\n",
       "      <th>Inns</th>\n",
       "      <th>NO</th>\n",
       "      <th>Runs</th>\n",
       "      <th>Total Years</th>\n",
       "      <th>boundaries</th>\n",
       "    </tr>\n",
       "    <tr>\n",
       "      <th>Country</th>\n",
       "      <th></th>\n",
       "      <th></th>\n",
       "      <th></th>\n",
       "      <th></th>\n",
       "      <th></th>\n",
       "      <th></th>\n",
       "      <th></th>\n",
       "      <th></th>\n",
       "    </tr>\n",
       "  </thead>\n",
       "  <tbody>\n",
       "    <tr>\n",
       "      <th>INDIA</th>\n",
       "      <td>19.420349</td>\n",
       "      <td>24.222500</td>\n",
       "      <td>212.173280</td>\n",
       "      <td>95.083333</td>\n",
       "      <td>17.986111</td>\n",
       "      <td>2586.611111</td>\n",
       "      <td>10.138889</td>\n",
       "      <td>266.500000</td>\n",
       "    </tr>\n",
       "    <tr>\n",
       "      <th>SOUTH AFRICA</th>\n",
       "      <td>19.621930</td>\n",
       "      <td>25.511176</td>\n",
       "      <td>224.642814</td>\n",
       "      <td>81.480769</td>\n",
       "      <td>17.134615</td>\n",
       "      <td>2266.615385</td>\n",
       "      <td>9.038462</td>\n",
       "      <td>228.942308</td>\n",
       "    </tr>\n",
       "    <tr>\n",
       "      <th>SRI LANKA</th>\n",
       "      <td>16.944832</td>\n",
       "      <td>20.499595</td>\n",
       "      <td>157.373944</td>\n",
       "      <td>88.626667</td>\n",
       "      <td>15.360000</td>\n",
       "      <td>2073.746667</td>\n",
       "      <td>10.493333</td>\n",
       "      <td>200.093333</td>\n",
       "    </tr>\n",
       "    <tr>\n",
       "      <th>AUSTRALIA</th>\n",
       "      <td>19.111727</td>\n",
       "      <td>24.428256</td>\n",
       "      <td>188.783187</td>\n",
       "      <td>74.906977</td>\n",
       "      <td>14.895349</td>\n",
       "      <td>2004.360465</td>\n",
       "      <td>9.441860</td>\n",
       "      <td>189.709302</td>\n",
       "    </tr>\n",
       "    <tr>\n",
       "      <th>PAKISTAN</th>\n",
       "      <td>18.429092</td>\n",
       "      <td>22.830690</td>\n",
       "      <td>162.799166</td>\n",
       "      <td>83.091954</td>\n",
       "      <td>15.275862</td>\n",
       "      <td>1972.459770</td>\n",
       "      <td>10.344828</td>\n",
       "      <td>189.011494</td>\n",
       "    </tr>\n",
       "    <tr>\n",
       "      <th>WEST INDIES</th>\n",
       "      <td>16.812346</td>\n",
       "      <td>21.100361</td>\n",
       "      <td>134.472294</td>\n",
       "      <td>70.385542</td>\n",
       "      <td>13.445783</td>\n",
       "      <td>1648.987952</td>\n",
       "      <td>10.000000</td>\n",
       "      <td>168.566265</td>\n",
       "    </tr>\n",
       "    <tr>\n",
       "      <th>NEW ZEALAND</th>\n",
       "      <td>17.921222</td>\n",
       "      <td>21.995663</td>\n",
       "      <td>160.769042</td>\n",
       "      <td>69.710843</td>\n",
       "      <td>12.518072</td>\n",
       "      <td>1621.024096</td>\n",
       "      <td>9.228916</td>\n",
       "      <td>159.662651</td>\n",
       "    </tr>\n",
       "    <tr>\n",
       "      <th>IRELAND</th>\n",
       "      <td>18.942469</td>\n",
       "      <td>22.647647</td>\n",
       "      <td>144.185997</td>\n",
       "      <td>68.294118</td>\n",
       "      <td>10.647059</td>\n",
       "      <td>1599.705882</td>\n",
       "      <td>9.882353</td>\n",
       "      <td>173.117647</td>\n",
       "    </tr>\n",
       "    <tr>\n",
       "      <th>ZIMBABWE</th>\n",
       "      <td>15.380176</td>\n",
       "      <td>18.229333</td>\n",
       "      <td>117.825520</td>\n",
       "      <td>66.366667</td>\n",
       "      <td>10.416667</td>\n",
       "      <td>1393.883333</td>\n",
       "      <td>10.283333</td>\n",
       "      <td>134.266667</td>\n",
       "    </tr>\n",
       "    <tr>\n",
       "      <th>ENGLAND</th>\n",
       "      <td>18.945036</td>\n",
       "      <td>23.224301</td>\n",
       "      <td>149.657438</td>\n",
       "      <td>54.688172</td>\n",
       "      <td>10.150538</td>\n",
       "      <td>1376.645161</td>\n",
       "      <td>9.204301</td>\n",
       "      <td>140.698925</td>\n",
       "    </tr>\n",
       "    <tr>\n",
       "      <th>BANGLADESH</th>\n",
       "      <td>16.565398</td>\n",
       "      <td>19.256957</td>\n",
       "      <td>123.882280</td>\n",
       "      <td>60.391304</td>\n",
       "      <td>9.434783</td>\n",
       "      <td>1299.608696</td>\n",
       "      <td>9.347826</td>\n",
       "      <td>135.543478</td>\n",
       "    </tr>\n",
       "    <tr>\n",
       "      <th>AFGHANISTAN</th>\n",
       "      <td>19.608635</td>\n",
       "      <td>22.674000</td>\n",
       "      <td>123.568261</td>\n",
       "      <td>51.400000</td>\n",
       "      <td>7.700000</td>\n",
       "      <td>1137.800000</td>\n",
       "      <td>8.950000</td>\n",
       "      <td>124.000000</td>\n",
       "    </tr>\n",
       "  </tbody>\n",
       "</table>\n",
       "</div>"
      ],
      "text/plain": [
       "              Arithmatic Average of Total Runs by Inns Played        Ave  \\\n",
       "Country                                                                    \n",
       "INDIA                                               19.420349  24.222500   \n",
       "SOUTH AFRICA                                        19.621930  25.511176   \n",
       "SRI LANKA                                           16.944832  20.499595   \n",
       "AUSTRALIA                                           19.111727  24.428256   \n",
       "PAKISTAN                                            18.429092  22.830690   \n",
       "WEST INDIES                                         16.812346  21.100361   \n",
       "NEW ZEALAND                                         17.921222  21.995663   \n",
       "IRELAND                                             18.942469  22.647647   \n",
       "ZIMBABWE                                            15.380176  18.229333   \n",
       "ENGLAND                                             18.945036  23.224301   \n",
       "BANGLADESH                                          16.565398  19.256957   \n",
       "AFGHANISTAN                                         19.608635  22.674000   \n",
       "\n",
       "              Avg runs per year       Inns         NO         Runs  \\\n",
       "Country                                                              \n",
       "INDIA                212.173280  95.083333  17.986111  2586.611111   \n",
       "SOUTH AFRICA         224.642814  81.480769  17.134615  2266.615385   \n",
       "SRI LANKA            157.373944  88.626667  15.360000  2073.746667   \n",
       "AUSTRALIA            188.783187  74.906977  14.895349  2004.360465   \n",
       "PAKISTAN             162.799166  83.091954  15.275862  1972.459770   \n",
       "WEST INDIES          134.472294  70.385542  13.445783  1648.987952   \n",
       "NEW ZEALAND          160.769042  69.710843  12.518072  1621.024096   \n",
       "IRELAND              144.185997  68.294118  10.647059  1599.705882   \n",
       "ZIMBABWE             117.825520  66.366667  10.416667  1393.883333   \n",
       "ENGLAND              149.657438  54.688172  10.150538  1376.645161   \n",
       "BANGLADESH           123.882280  60.391304   9.434783  1299.608696   \n",
       "AFGHANISTAN          123.568261  51.400000   7.700000  1137.800000   \n",
       "\n",
       "              Total Years  boundaries  \n",
       "Country                                \n",
       "INDIA           10.138889  266.500000  \n",
       "SOUTH AFRICA     9.038462  228.942308  \n",
       "SRI LANKA       10.493333  200.093333  \n",
       "AUSTRALIA        9.441860  189.709302  \n",
       "PAKISTAN        10.344828  189.011494  \n",
       "WEST INDIES     10.000000  168.566265  \n",
       "NEW ZEALAND      9.228916  159.662651  \n",
       "IRELAND          9.882353  173.117647  \n",
       "ZIMBABWE        10.283333  134.266667  \n",
       "ENGLAND          9.204301  140.698925  \n",
       "BANGLADESH       9.347826  135.543478  \n",
       "AFGHANISTAN      8.950000  124.000000  "
      ]
     },
     "execution_count": 18,
     "metadata": {},
     "output_type": "execute_result"
    }
   ],
   "source": [
    "values = ['NO', 'Runs', 'Inns', 'boundaries', 'Ave', 'Avg runs per year', 'Arithmatic Average of Total Runs by Inns Played', 'Total Years']\n",
    "pd.pivot_table( df ,index=['Country'], values=values).sort_values(by='Runs', ascending=False)"
   ]
  },
  {
   "cell_type": "code",
   "execution_count": 19,
   "id": "2960fa6a",
   "metadata": {},
   "outputs": [],
   "source": [
    "df_pivots = df[['Runs', 'Ave', 'Arithmatic Average of Total Runs by Inns Played', '100', '50', '0', 'Avg runs per year', 'Inns', 'NO', 'boundaries', 'SR']]"
   ]
  },
  {
   "cell_type": "code",
   "execution_count": 20,
   "id": "c96bcb89",
   "metadata": {},
   "outputs": [
    {
     "name": "stdout",
     "output_type": "stream",
     "text": [
      "                     Runs\n",
      "Total Years              \n",
      "23           18426.000000\n",
      "22           13364.000000\n",
      "20            8979.500000\n",
      "21            7381.000000\n",
      "17            7249.285714\n",
      "15            5797.826087\n",
      "19            5418.200000\n",
      "16            5349.250000\n",
      "18            5138.428571\n",
      "14            3639.600000\n",
      "13            2954.388889\n",
      "11            1998.955882\n",
      "12            1922.397059\n",
      "10            1521.715909\n",
      "8             1112.486726\n",
      "9              889.405063\n",
      "7              675.800000\n",
      "6              655.644628\n",
      "                   Ave\n",
      "Total Years           \n",
      "23           44.830000\n",
      "21           41.700000\n",
      "20           36.295000\n",
      "22           32.510000\n",
      "15           32.434348\n",
      "16           32.345833\n",
      "17           32.128571\n",
      "18           28.114286\n",
      "14           26.054286\n",
      "13           25.567500\n",
      "19           25.212000\n",
      "11           23.893235\n",
      "10           22.618409\n",
      "12           21.806176\n",
      "8            20.558496\n",
      "9            20.037595\n",
      "6            19.993500\n",
      "7            18.889091\n",
      "             Arithmatic Average of Total Runs by Inns Played\n",
      "Total Years                                                 \n",
      "23                                                 40.765487\n",
      "21                                                 33.857798\n",
      "20                                                 32.513146\n",
      "22                                                 31.151515\n",
      "15                                                 27.566298\n",
      "16                                                 27.475157\n",
      "17                                                 27.410550\n",
      "18                                                 23.523541\n",
      "19                                                 22.644276\n",
      "14                                                 22.048924\n",
      "13                                                 21.005990\n",
      "11                                                 19.580706\n",
      "10                                                 18.083584\n",
      "12                                                 17.688775\n",
      "8                                                  16.837436\n",
      "9                                                  15.896020\n",
      "6                                                  15.459182\n",
      "7                                                  15.014489\n",
      "                   100\n",
      "Total Years           \n",
      "23           49.000000\n",
      "22           28.000000\n",
      "20           17.000000\n",
      "17           10.428571\n",
      "21            8.000000\n",
      "15            7.086957\n",
      "16            6.333333\n",
      "18            5.571429\n",
      "14            5.028571\n",
      "19            5.000000\n",
      "13            3.833333\n",
      "11            2.411765\n",
      "12            1.867647\n",
      "10            1.511364\n",
      "8             1.097345\n",
      "6             0.768595\n",
      "9             0.696203\n",
      "7             0.650000\n",
      "                    50\n",
      "Total Years           \n",
      "23           96.000000\n",
      "22           68.000000\n",
      "21           50.000000\n",
      "20           48.500000\n",
      "17           42.000000\n",
      "15           35.391304\n",
      "16           32.666667\n",
      "18           30.428571\n",
      "19           26.600000\n",
      "14           18.542857\n",
      "13           17.138889\n",
      "11           10.720588\n",
      "12           10.205882\n",
      "10            8.068182\n",
      "8             6.097345\n",
      "9             4.392405\n",
      "6             3.280992\n",
      "7             3.120000\n",
      "                     0\n",
      "Total Years           \n",
      "22           34.000000\n",
      "23           20.000000\n",
      "20           19.500000\n",
      "19           18.600000\n",
      "18           16.142857\n",
      "17           15.071429\n",
      "14           11.428571\n",
      "15           10.913043\n",
      "16           10.083333\n",
      "21            8.000000\n",
      "12            7.852941\n",
      "13            7.611111\n",
      "11            5.867647\n",
      "10            5.034091\n",
      "9             4.240506\n",
      "8             4.150442\n",
      "7             3.450000\n",
      "6             2.884298\n",
      "             Avg runs per year\n",
      "Total Years                   \n",
      "23                  801.130435\n",
      "22                  607.454545\n",
      "20                  448.975000\n",
      "17                  426.428571\n",
      "15                  386.521739\n",
      "21                  351.476190\n",
      "16                  334.328125\n",
      "18                  285.468254\n",
      "19                  285.168421\n",
      "14                  259.971429\n",
      "13                  227.260684\n",
      "11                  181.723262\n",
      "12                  160.199755\n",
      "10                  152.171591\n",
      "8                   139.060841\n",
      "6                   109.274105\n",
      "9                    98.822785\n",
      "7                    96.542857\n",
      "                   Inns\n",
      "Total Years            \n",
      "23           452.000000\n",
      "22           429.000000\n",
      "20           274.500000\n",
      "19           243.600000\n",
      "17           242.142857\n",
      "21           218.000000\n",
      "18           203.142857\n",
      "15           193.260870\n",
      "16           179.666667\n",
      "14           144.085714\n",
      "13           108.472222\n",
      "12            88.191176\n",
      "11            81.147059\n",
      "10            66.386364\n",
      "8             48.300885\n",
      "9             46.594937\n",
      "7             35.890000\n",
      "6             31.008264\n",
      "                    NO\n",
      "Total Years           \n",
      "23           41.000000\n",
      "21           41.000000\n",
      "18           37.000000\n",
      "17           35.714286\n",
      "15           30.000000\n",
      "19           29.200000\n",
      "16           28.666667\n",
      "20           28.500000\n",
      "14           23.600000\n",
      "13           19.805556\n",
      "22           18.000000\n",
      "12           17.264706\n",
      "11           14.426471\n",
      "10           13.852273\n",
      "9            10.075949\n",
      "8             9.513274\n",
      "7             7.860000\n",
      "6             6.404959\n",
      "              boundaries\n",
      "Total Years             \n",
      "23           2211.000000\n",
      "22           1761.000000\n",
      "20           1083.000000\n",
      "17            707.000000\n",
      "19            578.000000\n",
      "15            566.565217\n",
      "16            517.916667\n",
      "18            496.142857\n",
      "21            489.000000\n",
      "14            390.628571\n",
      "13            292.583333\n",
      "11            195.441176\n",
      "12            192.014706\n",
      "10            142.238636\n",
      "8             106.840708\n",
      "9              82.797468\n",
      "6              69.793388\n",
      "7              66.390000\n",
      "                    SR\n",
      "Total Years           \n",
      "22           91.250000\n",
      "19           87.200000\n",
      "23           86.230000\n",
      "20           84.530000\n",
      "15           76.230435\n",
      "14           76.178571\n",
      "17           75.448571\n",
      "18           74.605714\n",
      "11           73.296176\n",
      "16           72.924167\n",
      "12           71.644412\n",
      "13           70.813611\n",
      "9            70.117848\n",
      "10           69.943068\n",
      "8            69.130442\n",
      "7            68.827500\n",
      "6            68.682066\n",
      "21           67.010000\n"
     ]
    }
   ],
   "source": [
    "for i in df_pivots.columns:\n",
    "    print(pd.pivot_table(df, index=['Total Years'], values=i).sort_values(i, ascending=False))"
   ]
  },
  {
   "cell_type": "code",
   "execution_count": 31,
   "id": "3f4d0d10",
   "metadata": {},
   "outputs": [
    {
     "name": "stdout",
     "output_type": "stream",
     "text": [
      "Opening in existing browser session.\n"
     ]
    }
   ],
   "source": [
    "from bokeh.plotting import figure, output_file, show\n",
    "from bokeh.models import ColumnDataSource\n",
    "from bokeh.models import tools\n",
    "hover = tools.HoverTool()\n",
    "hover.tooltips=[\n",
    "    ('Country', \"@y\"),\n",
    "    (\"Players\", \"@right\")\n",
    "]\n",
    "v = df['Country'].value_counts()\n",
    "p = figure(y_range=df['Country'].unique(),\n",
    "           plot_width=800, plot_height=600, title='Number of Players that played ODI for more than 5 years for their respective countries',\n",
    "           x_axis_label=\"Players\", y_axis_label='Countries', tools='pan,wheel_zoom,zoom_in,zoom_out,box_select,reset,save'\n",
    "          )\n",
    "p.hbar(y=v.index, left=0, right=list(v), height=.4, fill_alpha=0.4)\n",
    "p.add_tools(hover)\n",
    "output_file(\"country_wise_players.html\")\n",
    "show(p)"
   ]
  },
  {
   "cell_type": "code",
   "execution_count": 22,
   "id": "b432ea52",
   "metadata": {},
   "outputs": [
    {
     "data": {
      "text/plain": [
       "['SR Tendulkar ']"
      ]
     },
     "execution_count": 22,
     "metadata": {},
     "output_type": "execute_result"
    }
   ],
   "source": [
    "df[df['Runs']==18426]['Player'].tolist()"
   ]
  },
  {
   "cell_type": "code",
   "execution_count": 23,
   "id": "9dd37551",
   "metadata": {
    "scrolled": true
   },
   "outputs": [],
   "source": [
    "c = df.groupby('Country')\n",
    "rns = (c.aggregate(\"max\")['Runs'])\n",
    "\n",
    "players = []\n",
    "countries = df['Country'].value_counts().index.sort_values('Country')[0]\n",
    "for i in countries:\n",
    "    country_grp = df[df['Country'] == i]\n",
    "    max_runs = max(country_grp['Runs'])\n",
    "    \n",
    "    players.append(df[df['Runs']==max_runs]['Player'].tolist()[0])\n"
   ]
  },
  {
   "cell_type": "code",
   "execution_count": 24,
   "id": "63162c67",
   "metadata": {},
   "outputs": [
    {
     "name": "stdout",
     "output_type": "stream",
     "text": [
      "<class 'str'>\n"
     ]
    }
   ],
   "source": [
    "from bokeh.models import tools\n",
    "from bokeh.models import ColumnDataSource\n",
    "countries  = list(df['Country'].value_counts().index.sort_values('Country')[0])\n",
    "print(type(players[0]))\n",
    "source = ColumnDataSource(data=dict(\n",
    "    countries=countries,\n",
    "    runs=list(rns),\n",
    "    Players=players\n",
    "))\n",
    "hover = tools.HoverTool()\n",
    "hover.tooltips = [\n",
    "    ('Country', '@countries'),\n",
    "    ('Player', '@Players'),\n",
    "    ('Runs', \"@runs\")\n",
    "\n",
    "]\n"
   ]
  },
  {
   "cell_type": "code",
   "execution_count": 25,
   "id": "35b3fc6a",
   "metadata": {},
   "outputs": [
    {
     "name": "stdout",
     "output_type": "stream",
     "text": [
      "<class 'str'>\n"
     ]
    }
   ],
   "source": [
    "from bokeh.plotting import figure, output_file, show\n",
    "from bokeh.models import ColumnDataSource, Label, LabelSet, tools\n",
    "countries  = list(df['Country'].value_counts().index.sort_values('Country')[0])\n",
    "print(type(players[0]))\n",
    "source = ColumnDataSource(data=dict(\n",
    "    countries=countries,\n",
    "    runs=list(rns),\n",
    "    Players=players\n",
    "))\n",
    "hover = tools.HoverTool()\n",
    "hover.tooltips = [\n",
    "    ('Country', '@countries'),\n",
    "    ('Player', '@Players'),\n",
    "    ('Runs', \"@runs\")\n",
    "\n",
    "]\n",
    "\n",
    "\n",
    "\n",
    "labels = LabelSet(x='runs', y='countries', text='Players',x_offset=5, y_offset=8,text_font_size='14px', text_font_style='italic', source=source, render_mode='canvas', text_align='right')\n",
    "v = df['Country'].value_counts()\n",
    "p = figure(y_range=countries[::-1],\n",
    "           plot_width=800, plot_height=700, title='Graph for Highest Run Scorer for each Country in history of ODI',\n",
    "           x_axis_label=\"Runs\", y_axis_label='Countries', tools='pan,wheel_zoom,zoom_in,zoom_out,box_select,reset,save'\n",
    "          )\n",
    "p.hbar(y='countries', right='runs', source=source, height=.4, fill_alpha=.5)\n",
    "p.add_tools(hover)\n",
    "p.add_layout(labels)\n",
    "\n",
    "output_file(\"Country_wise_runs.html\")\n",
    "show(p)"
   ]
  },
  {
   "cell_type": "code",
   "execution_count": 26,
   "id": "7c75cb22",
   "metadata": {},
   "outputs": [
    {
     "name": "stdout",
     "output_type": "stream",
     "text": [
      "[27195, 134545, 186236, 136866, 59782, 117864, 172375, 128028, 83633, 22756, 171604, 155531]\n",
      "['IRELAND' 'NEW ZEALAND' 'INDIA' 'WEST INDIES' 'BANGLADESH' 'SOUTH AFRICA'\n",
      " 'AUSTRALIA' 'ENGLAND' 'ZIMBABWE' 'AFGHANISTAN' 'PAKISTAN' 'SRI LANKA']\n"
     ]
    }
   ],
   "source": [
    "countries = df['Country'].unique()\n",
    "total_runs_for_each_country = []\n",
    "for i in countries:\n",
    "    total_runs_for_each_country.append(df[df['Country']==i]['Runs'].sum())\n",
    "print(total_runs_for_each_country)\n",
    "\n",
    "print(countries)"
   ]
  },
  {
   "cell_type": "code",
   "execution_count": 27,
   "id": "9d66c78e",
   "metadata": {},
   "outputs": [
    {
     "name": "stdout",
     "output_type": "stream",
     "text": [
      "Opening in existing browser session.\n",
      "[186236, 172375, 171604, 155531, 136866, 134545, 128028, 117864, 83633, 59782, 27195, 22756]\n"
     ]
    }
   ],
   "source": [
    "d = {}\n",
    "j = 0\n",
    "for i in countries:\n",
    "    d[i] = total_runs_for_each_country[j]\n",
    "    j += 1\n",
    "d = sorted(d.items(), key= lambda x : x[1])\n",
    "d = d[::-1]\n",
    "d = dict(d)\n",
    "countries_sor = []\n",
    "total_runs_sor = []\n",
    "for k, v in d.items():\n",
    "    countries_sor.append(k)\n",
    "    total_runs_sor.append(v)\n",
    "\n",
    "for i in range(len(total_runs_sor)):\n",
    "    total_runs_sor[i] = int(total_runs_sor[i])\n",
    "print(total_runs_sor)"
   ]
  },
  {
   "cell_type": "code",
   "execution_count": 29,
   "id": "15aee179",
   "metadata": {},
   "outputs": [
    {
     "name": "stdout",
     "output_type": "stream",
     "text": [
      "Opening in existing browser session.\n"
     ]
    }
   ],
   "source": [
    "from bokeh.plotting import ColumnDataSource, figure, output_file, show\n",
    "\n",
    "from bokeh.models import NumeralTickFormatter, LogScale\n",
    "\n",
    "output_file(\"total_runs_by_each_country.html\")\n",
    "\n",
    "source = ColumnDataSource(data=dict(\n",
    "    x=total_runs_sor,\n",
    "    y=countries_sor,\n",
    "))\n",
    "\n",
    "TOOLTIPS = [\n",
    "    (\"Countries\", \"@y\"),\n",
    "    (\"Runs\", \"@right{000,000}\")\n",
    "]\n",
    "\n",
    "p = figure(width=800, height=600, tooltips=TOOLTIPS, y_range=countries_sor[::-1],\n",
    "           title=\"Total Runs by each Country in ODI (Considering all the players who played for more than 5 years)\",\n",
    "           x_axis_label='Total Runs',\n",
    "           y_axis_label='Countries',\n",
    "          )\n",
    "\n",
    "p.hbar(\n",
    "    y = countries_sor,\n",
    "    left=0,\n",
    "    right=total_runs_sor,\n",
    "    height=.4,\n",
    "    fill_alpha=.5\n",
    ")\n",
    "p.xaxis.formatter=NumeralTickFormatter(format=\"000,000\")\n",
    "\n",
    "show(p)"
   ]
  }
 ],
 "metadata": {
  "kernelspec": {
   "display_name": "Python 3 (ipykernel)",
   "language": "python",
   "name": "python3"
  },
  "language_info": {
   "codemirror_mode": {
    "name": "ipython",
    "version": 3
   },
   "file_extension": ".py",
   "mimetype": "text/x-python",
   "name": "python",
   "nbconvert_exporter": "python",
   "pygments_lexer": "ipython3",
   "version": "3.9.7"
  }
 },
 "nbformat": 4,
 "nbformat_minor": 5
}
